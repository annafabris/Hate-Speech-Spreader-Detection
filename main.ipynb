{
  "cells": [
    {
      "cell_type": "code",
      "execution_count": null,
      "metadata": {
        "id": "opTdT5D1gjyy",
        "colab": {
          "base_uri": "https://localhost:8080/"
        },
        "outputId": "3513eec4-2418-4e86-9330-c5ac6f2af0fe"
      },
      "outputs": [
        {
          "output_type": "stream",
          "name": "stdout",
          "text": [
            "Collecting emoji\n",
            "  Downloading emoji-1.6.3.tar.gz (174 kB)\n",
            "\u001b[?25l\r\u001b[K     |█▉                              | 10 kB 22.3 MB/s eta 0:00:01\r\u001b[K     |███▊                            | 20 kB 8.2 MB/s eta 0:00:01\r\u001b[K     |█████▋                          | 30 kB 7.3 MB/s eta 0:00:01\r\u001b[K     |███████▌                        | 40 kB 6.8 MB/s eta 0:00:01\r\u001b[K     |█████████▍                      | 51 kB 4.3 MB/s eta 0:00:01\r\u001b[K     |███████████▎                    | 61 kB 4.5 MB/s eta 0:00:01\r\u001b[K     |█████████████▏                  | 71 kB 4.4 MB/s eta 0:00:01\r\u001b[K     |███████████████                 | 81 kB 4.9 MB/s eta 0:00:01\r\u001b[K     |█████████████████               | 92 kB 5.0 MB/s eta 0:00:01\r\u001b[K     |██████████████████▉             | 102 kB 4.2 MB/s eta 0:00:01\r\u001b[K     |████████████████████▊           | 112 kB 4.2 MB/s eta 0:00:01\r\u001b[K     |██████████████████████▋         | 122 kB 4.2 MB/s eta 0:00:01\r\u001b[K     |████████████████████████▌       | 133 kB 4.2 MB/s eta 0:00:01\r\u001b[K     |██████████████████████████▍     | 143 kB 4.2 MB/s eta 0:00:01\r\u001b[K     |████████████████████████████▏   | 153 kB 4.2 MB/s eta 0:00:01\r\u001b[K     |██████████████████████████████  | 163 kB 4.2 MB/s eta 0:00:01\r\u001b[K     |████████████████████████████████| 174 kB 4.2 MB/s eta 0:00:01\r\u001b[K     |████████████████████████████████| 174 kB 4.2 MB/s \n",
            "\u001b[?25hBuilding wheels for collected packages: emoji\n",
            "  Building wheel for emoji (setup.py) ... \u001b[?25l\u001b[?25hdone\n",
            "  Created wheel for emoji: filename=emoji-1.6.3-py3-none-any.whl size=170298 sha256=f05d5b199befe53166b76428d0a2aaccbda517cef0a6b68391c0fc3bb7e9747e\n",
            "  Stored in directory: /root/.cache/pip/wheels/03/8b/d7/ad579fbef83c287215c0caab60fb0ae0f30c4d7ce5f580eade\n",
            "Successfully built emoji\n",
            "Installing collected packages: emoji\n",
            "Successfully installed emoji-1.6.3\n",
            "Collecting contractions\n",
            "  Downloading contractions-0.1.66-py2.py3-none-any.whl (8.0 kB)\n",
            "Collecting textsearch>=0.0.21\n",
            "  Downloading textsearch-0.0.21-py2.py3-none-any.whl (7.5 kB)\n",
            "Collecting pyahocorasick\n",
            "  Downloading pyahocorasick-1.4.2.tar.gz (321 kB)\n",
            "\u001b[K     |████████████████████████████████| 321 kB 4.1 MB/s \n",
            "\u001b[?25hCollecting anyascii\n",
            "  Downloading anyascii-0.3.0-py3-none-any.whl (284 kB)\n",
            "\u001b[K     |████████████████████████████████| 284 kB 45.2 MB/s \n",
            "\u001b[?25hBuilding wheels for collected packages: pyahocorasick\n",
            "  Building wheel for pyahocorasick (setup.py) ... \u001b[?25l\u001b[?25hdone\n",
            "  Created wheel for pyahocorasick: filename=pyahocorasick-1.4.2-cp37-cp37m-linux_x86_64.whl size=85448 sha256=07b7d787b75dd3ac8391d732ed38abdb35cbf1d3aa3e2569546160ac2934f564\n",
            "  Stored in directory: /root/.cache/pip/wheels/25/19/a6/8f363d9939162782bb8439d886469756271abc01f76fbd790f\n",
            "Successfully built pyahocorasick\n",
            "Installing collected packages: pyahocorasick, anyascii, textsearch, contractions\n",
            "Successfully installed anyascii-0.3.0 contractions-0.1.66 pyahocorasick-1.4.2 textsearch-0.0.21\n",
            "Collecting keras_tuner\n",
            "  Downloading keras_tuner-1.1.0-py3-none-any.whl (98 kB)\n",
            "\u001b[K     |████████████████████████████████| 98 kB 3.3 MB/s \n",
            "\u001b[?25hRequirement already satisfied: numpy in /usr/local/lib/python3.7/dist-packages (from keras_tuner) (1.19.5)\n",
            "Requirement already satisfied: scipy in /usr/local/lib/python3.7/dist-packages (from keras_tuner) (1.4.1)\n",
            "Requirement already satisfied: ipython in /usr/local/lib/python3.7/dist-packages (from keras_tuner) (5.5.0)\n",
            "Collecting kt-legacy\n",
            "  Downloading kt_legacy-1.0.4-py3-none-any.whl (9.6 kB)\n",
            "Requirement already satisfied: requests in /usr/local/lib/python3.7/dist-packages (from keras_tuner) (2.23.0)\n",
            "Requirement already satisfied: packaging in /usr/local/lib/python3.7/dist-packages (from keras_tuner) (21.3)\n",
            "Requirement already satisfied: tensorboard in /usr/local/lib/python3.7/dist-packages (from keras_tuner) (2.7.0)\n",
            "Requirement already satisfied: decorator in /usr/local/lib/python3.7/dist-packages (from ipython->keras_tuner) (4.4.2)\n",
            "Requirement already satisfied: prompt-toolkit<2.0.0,>=1.0.4 in /usr/local/lib/python3.7/dist-packages (from ipython->keras_tuner) (1.0.18)\n",
            "Requirement already satisfied: setuptools>=18.5 in /usr/local/lib/python3.7/dist-packages (from ipython->keras_tuner) (57.4.0)\n",
            "Requirement already satisfied: pexpect in /usr/local/lib/python3.7/dist-packages (from ipython->keras_tuner) (4.8.0)\n",
            "Requirement already satisfied: pygments in /usr/local/lib/python3.7/dist-packages (from ipython->keras_tuner) (2.6.1)\n",
            "Requirement already satisfied: pickleshare in /usr/local/lib/python3.7/dist-packages (from ipython->keras_tuner) (0.7.5)\n",
            "Requirement already satisfied: simplegeneric>0.8 in /usr/local/lib/python3.7/dist-packages (from ipython->keras_tuner) (0.8.1)\n",
            "Requirement already satisfied: traitlets>=4.2 in /usr/local/lib/python3.7/dist-packages (from ipython->keras_tuner) (5.1.1)\n",
            "Requirement already satisfied: six>=1.9.0 in /usr/local/lib/python3.7/dist-packages (from prompt-toolkit<2.0.0,>=1.0.4->ipython->keras_tuner) (1.15.0)\n",
            "Requirement already satisfied: wcwidth in /usr/local/lib/python3.7/dist-packages (from prompt-toolkit<2.0.0,>=1.0.4->ipython->keras_tuner) (0.2.5)\n",
            "Requirement already satisfied: pyparsing!=3.0.5,>=2.0.2 in /usr/local/lib/python3.7/dist-packages (from packaging->keras_tuner) (3.0.6)\n",
            "Requirement already satisfied: ptyprocess>=0.5 in /usr/local/lib/python3.7/dist-packages (from pexpect->ipython->keras_tuner) (0.7.0)\n",
            "Requirement already satisfied: urllib3!=1.25.0,!=1.25.1,<1.26,>=1.21.1 in /usr/local/lib/python3.7/dist-packages (from requests->keras_tuner) (1.24.3)\n",
            "Requirement already satisfied: certifi>=2017.4.17 in /usr/local/lib/python3.7/dist-packages (from requests->keras_tuner) (2021.10.8)\n",
            "Requirement already satisfied: idna<3,>=2.5 in /usr/local/lib/python3.7/dist-packages (from requests->keras_tuner) (2.10)\n",
            "Requirement already satisfied: chardet<4,>=3.0.2 in /usr/local/lib/python3.7/dist-packages (from requests->keras_tuner) (3.0.4)\n",
            "Requirement already satisfied: werkzeug>=0.11.15 in /usr/local/lib/python3.7/dist-packages (from tensorboard->keras_tuner) (1.0.1)\n",
            "Requirement already satisfied: tensorboard-data-server<0.7.0,>=0.6.0 in /usr/local/lib/python3.7/dist-packages (from tensorboard->keras_tuner) (0.6.1)\n",
            "Requirement already satisfied: absl-py>=0.4 in /usr/local/lib/python3.7/dist-packages (from tensorboard->keras_tuner) (0.12.0)\n",
            "Requirement already satisfied: grpcio>=1.24.3 in /usr/local/lib/python3.7/dist-packages (from tensorboard->keras_tuner) (1.43.0)\n",
            "Requirement already satisfied: protobuf>=3.6.0 in /usr/local/lib/python3.7/dist-packages (from tensorboard->keras_tuner) (3.17.3)\n",
            "Requirement already satisfied: markdown>=2.6.8 in /usr/local/lib/python3.7/dist-packages (from tensorboard->keras_tuner) (3.3.6)\n",
            "Requirement already satisfied: google-auth<3,>=1.6.3 in /usr/local/lib/python3.7/dist-packages (from tensorboard->keras_tuner) (1.35.0)\n",
            "Requirement already satisfied: wheel>=0.26 in /usr/local/lib/python3.7/dist-packages (from tensorboard->keras_tuner) (0.37.1)\n",
            "Requirement already satisfied: tensorboard-plugin-wit>=1.6.0 in /usr/local/lib/python3.7/dist-packages (from tensorboard->keras_tuner) (1.8.1)\n",
            "Requirement already satisfied: google-auth-oauthlib<0.5,>=0.4.1 in /usr/local/lib/python3.7/dist-packages (from tensorboard->keras_tuner) (0.4.6)\n",
            "Requirement already satisfied: cachetools<5.0,>=2.0.0 in /usr/local/lib/python3.7/dist-packages (from google-auth<3,>=1.6.3->tensorboard->keras_tuner) (4.2.4)\n",
            "Requirement already satisfied: rsa<5,>=3.1.4 in /usr/local/lib/python3.7/dist-packages (from google-auth<3,>=1.6.3->tensorboard->keras_tuner) (4.8)\n",
            "Requirement already satisfied: pyasn1-modules>=0.2.1 in /usr/local/lib/python3.7/dist-packages (from google-auth<3,>=1.6.3->tensorboard->keras_tuner) (0.2.8)\n",
            "Requirement already satisfied: requests-oauthlib>=0.7.0 in /usr/local/lib/python3.7/dist-packages (from google-auth-oauthlib<0.5,>=0.4.1->tensorboard->keras_tuner) (1.3.0)\n",
            "Requirement already satisfied: importlib-metadata>=4.4 in /usr/local/lib/python3.7/dist-packages (from markdown>=2.6.8->tensorboard->keras_tuner) (4.10.0)\n",
            "Requirement already satisfied: typing-extensions>=3.6.4 in /usr/local/lib/python3.7/dist-packages (from importlib-metadata>=4.4->markdown>=2.6.8->tensorboard->keras_tuner) (3.10.0.2)\n",
            "Requirement already satisfied: zipp>=0.5 in /usr/local/lib/python3.7/dist-packages (from importlib-metadata>=4.4->markdown>=2.6.8->tensorboard->keras_tuner) (3.7.0)\n",
            "Requirement already satisfied: pyasn1<0.5.0,>=0.4.6 in /usr/local/lib/python3.7/dist-packages (from pyasn1-modules>=0.2.1->google-auth<3,>=1.6.3->tensorboard->keras_tuner) (0.4.8)\n",
            "Requirement already satisfied: oauthlib>=3.0.0 in /usr/local/lib/python3.7/dist-packages (from requests-oauthlib>=0.7.0->google-auth-oauthlib<0.5,>=0.4.1->tensorboard->keras_tuner) (3.1.1)\n",
            "Installing collected packages: kt-legacy, keras-tuner\n",
            "Successfully installed keras-tuner-1.1.0 kt-legacy-1.0.4\n",
            "Collecting transformers\n",
            "  Downloading transformers-4.15.0-py3-none-any.whl (3.4 MB)\n",
            "\u001b[K     |████████████████████████████████| 3.4 MB 4.2 MB/s \n",
            "\u001b[?25hCollecting sacremoses\n",
            "  Downloading sacremoses-0.0.47-py2.py3-none-any.whl (895 kB)\n",
            "\u001b[K     |████████████████████████████████| 895 kB 42.6 MB/s \n",
            "\u001b[?25hRequirement already satisfied: regex!=2019.12.17 in /usr/local/lib/python3.7/dist-packages (from transformers) (2019.12.20)\n",
            "Collecting huggingface-hub<1.0,>=0.1.0\n",
            "  Downloading huggingface_hub-0.4.0-py3-none-any.whl (67 kB)\n",
            "\u001b[K     |████████████████████████████████| 67 kB 4.5 MB/s \n",
            "\u001b[?25hRequirement already satisfied: numpy>=1.17 in /usr/local/lib/python3.7/dist-packages (from transformers) (1.19.5)\n",
            "Requirement already satisfied: importlib-metadata in /usr/local/lib/python3.7/dist-packages (from transformers) (4.10.0)\n",
            "Collecting tokenizers<0.11,>=0.10.1\n",
            "  Downloading tokenizers-0.10.3-cp37-cp37m-manylinux_2_5_x86_64.manylinux1_x86_64.manylinux_2_12_x86_64.manylinux2010_x86_64.whl (3.3 MB)\n",
            "\u001b[K     |████████████████████████████████| 3.3 MB 31.8 MB/s \n",
            "\u001b[?25hRequirement already satisfied: filelock in /usr/local/lib/python3.7/dist-packages (from transformers) (3.4.2)\n",
            "Requirement already satisfied: tqdm>=4.27 in /usr/local/lib/python3.7/dist-packages (from transformers) (4.62.3)\n",
            "Collecting pyyaml>=5.1\n",
            "  Downloading PyYAML-6.0-cp37-cp37m-manylinux_2_5_x86_64.manylinux1_x86_64.manylinux_2_12_x86_64.manylinux2010_x86_64.whl (596 kB)\n",
            "\u001b[K     |████████████████████████████████| 596 kB 50.1 MB/s \n",
            "\u001b[?25hRequirement already satisfied: packaging>=20.0 in /usr/local/lib/python3.7/dist-packages (from transformers) (21.3)\n",
            "Requirement already satisfied: requests in /usr/local/lib/python3.7/dist-packages (from transformers) (2.23.0)\n",
            "Requirement already satisfied: typing-extensions>=3.7.4.3 in /usr/local/lib/python3.7/dist-packages (from huggingface-hub<1.0,>=0.1.0->transformers) (3.10.0.2)\n",
            "Requirement already satisfied: pyparsing!=3.0.5,>=2.0.2 in /usr/local/lib/python3.7/dist-packages (from packaging>=20.0->transformers) (3.0.6)\n",
            "Requirement already satisfied: zipp>=0.5 in /usr/local/lib/python3.7/dist-packages (from importlib-metadata->transformers) (3.7.0)\n",
            "Requirement already satisfied: urllib3!=1.25.0,!=1.25.1,<1.26,>=1.21.1 in /usr/local/lib/python3.7/dist-packages (from requests->transformers) (1.24.3)\n",
            "Requirement already satisfied: certifi>=2017.4.17 in /usr/local/lib/python3.7/dist-packages (from requests->transformers) (2021.10.8)\n",
            "Requirement already satisfied: idna<3,>=2.5 in /usr/local/lib/python3.7/dist-packages (from requests->transformers) (2.10)\n",
            "Requirement already satisfied: chardet<4,>=3.0.2 in /usr/local/lib/python3.7/dist-packages (from requests->transformers) (3.0.4)\n",
            "Requirement already satisfied: click in /usr/local/lib/python3.7/dist-packages (from sacremoses->transformers) (7.1.2)\n",
            "Requirement already satisfied: joblib in /usr/local/lib/python3.7/dist-packages (from sacremoses->transformers) (1.1.0)\n",
            "Requirement already satisfied: six in /usr/local/lib/python3.7/dist-packages (from sacremoses->transformers) (1.15.0)\n",
            "Installing collected packages: pyyaml, tokenizers, sacremoses, huggingface-hub, transformers\n",
            "  Attempting uninstall: pyyaml\n",
            "    Found existing installation: PyYAML 3.13\n",
            "    Uninstalling PyYAML-3.13:\n",
            "      Successfully uninstalled PyYAML-3.13\n",
            "Successfully installed huggingface-hub-0.4.0 pyyaml-6.0 sacremoses-0.0.47 tokenizers-0.10.3 transformers-4.15.0\n"
          ]
        }
      ],
      "source": [
        "# Install the necessary libraries\n",
        "!pip3 install emoji\n",
        "!pip3 install contractions\n",
        "!pip3 install keras_tuner\n",
        "!pip3 install transformers"
      ]
    },
    {
      "cell_type": "code",
      "execution_count": null,
      "metadata": {
        "colab": {
          "base_uri": "https://localhost:8080/"
        },
        "id": "kA9NEuIUfOIu",
        "outputId": "65666b8e-7f4d-43e8-e951-13df207a1bf1"
      },
      "outputs": [
        {
          "output_type": "stream",
          "name": "stdout",
          "text": [
            "[nltk_data] Downloading package punkt to /root/nltk_data...\n",
            "[nltk_data]   Unzipping tokenizers/punkt.zip.\n",
            "[nltk_data] Downloading package stopwords to /root/nltk_data...\n",
            "[nltk_data]   Unzipping corpora/stopwords.zip.\n"
          ]
        }
      ],
      "source": [
        "# Import the necessary libraries\n",
        "import re\n",
        "import os\n",
        "import pandas as pd\n",
        "import xml.etree.ElementTree as ET\n",
        "from tqdm import tqdm\n",
        "tqdm.pandas()\n",
        "\n",
        "import emoji\n",
        "import string\n",
        "import contractions\n",
        "import nltk\n",
        "from nltk.corpus import stopwords\n",
        "from nltk.tokenize import word_tokenize\n",
        "nltk.download('punkt')\n",
        "nltk.download('stopwords')\n",
        "\n",
        "from sklearn.model_selection import train_test_split\n",
        "\n",
        "from sklearn.feature_extraction.text import TfidfVectorizer\n",
        "from sklearn.svm import SVC\n",
        "from sklearn.model_selection import RandomizedSearchCV\n",
        "from scipy.stats import uniform\n",
        "import pickle\n",
        "\n",
        "from keras.preprocessing.sequence import pad_sequences\n",
        "\n",
        "import numpy as np\n",
        "from tensorflow.keras.models import Sequential\n",
        "from tensorflow.keras.layers import InputLayer, LSTM, GRU, Bidirectional, Dense, Activation\n",
        "from tensorflow.keras.optimizers import Adam\n",
        "from tensorflow.keras.callbacks import EarlyStopping\n",
        "from keras_tuner import RandomSearch, Objective\n",
        "from keras.utils.vis_utils import plot_model\n",
        "\n",
        "import torch\n",
        "from transformers import AutoTokenizer, AutoModelForSequenceClassification, EarlyStoppingCallback, TrainingArguments, Trainer\n",
        "import shutil\n",
        "\n",
        "from keras.models import load_model\n",
        "from sklearn.metrics import accuracy_score, classification_report, confusion_matrix, ConfusionMatrixDisplay\n",
        "import matplotlib.pyplot as plt"
      ]
    },
    {
      "cell_type": "code",
      "source": [
        "# Set the notebook hyperparameter\n",
        "TRAIN = False"
      ],
      "metadata": {
        "id": "6QM1Hbv1N1es"
      },
      "execution_count": null,
      "outputs": []
    },
    {
      "cell_type": "markdown",
      "metadata": {
        "id": "s435JOoInCeh"
      },
      "source": [
        "# Data Extraction"
      ]
    },
    {
      "cell_type": "code",
      "execution_count": null,
      "metadata": {
        "id": "RMNHfu2LddiA"
      },
      "outputs": [],
      "source": [
        "# Download and unzip the dataset\n",
        "!gdown --id PRIVATEID\n",
        "!unzip -q -o dataset.zip -d /content/dataset"
      ]
    },
    {
      "cell_type": "code",
      "execution_count": null,
      "metadata": {
        "id": "CjZTlMzwe0Xm"
      },
      "outputs": [],
      "source": [
        "# Utilised functions\n",
        "def sorted_alphanumeric(data):\n",
        "    convert = lambda text: int(text) if text.isdigit() else text.lower()\n",
        "    alphanum_key = lambda key: [ convert(c) for c in re.split('([0-9]+)', key) ] \n",
        "    return sorted(data, key=alphanum_key)"
      ]
    },
    {
      "cell_type": "code",
      "execution_count": null,
      "metadata": {
        "id": "szgi5fDXi4Va"
      },
      "outputs": [],
      "source": [
        "# Load the dataset into a dataframe\n",
        "path = '/content/dataset/en'\n",
        "filenames = sorted_alphanumeric(os.listdir(path))\n",
        "\n",
        "df = pd.DataFrame(columns=['Text', 'Author', 'Truth'])\n",
        "\n",
        "for index, filename in enumerate(tqdm(filenames)):\n",
        "    if filename[-3:] == 'xml':\n",
        "        root = ET.parse(path + '/' + filename).getroot()\n",
        "\n",
        "        truth = int(root.get('class'))\n",
        "        texts = root.findall('documents/document')\n",
        "\n",
        "        for text in texts:\n",
        "            df.loc[len(df)] = [text.text, index, truth]"
      ]
    },
    {
      "cell_type": "code",
      "execution_count": null,
      "metadata": {
        "id": "NU1q_Nqlf3Bt"
      },
      "outputs": [],
      "source": [
        "# Preview the dataset\n",
        "print(f\"Number of offensive tweets: {df[df['Truth'] == 1].shape[0]}\")\n",
        "print(f\"Number of non-offensive tweets: {df[df['Truth'] == 0].shape[0]}\")\n",
        "df.head()"
      ]
    },
    {
      "cell_type": "markdown",
      "metadata": {
        "id": "WVOpVcRXgdpX"
      },
      "source": [
        "# Data Cleaning"
      ]
    },
    {
      "cell_type": "code",
      "execution_count": null,
      "metadata": {
        "id": "hjGMjQ6jZit4"
      },
      "outputs": [],
      "source": [
        "# Download and read the extracted dataset (use to skip data extraction)\n",
        "# !gdown --id PRIVATEID\n",
        "# df = pd.read_pickle('/content/dataset.pkl')"
      ]
    },
    {
      "cell_type": "code",
      "execution_count": null,
      "metadata": {
        "id": "ySTfY--xd6eg"
      },
      "outputs": [],
      "source": [
        "# Utilised functions\n",
        "# Normalize sequences of at least 3 repeated characters with a maximum of two letters\n",
        "def replace_more_than_three(s):\n",
        "    pattern = re.compile(r\"(.)\\1{2,}\", re.DOTALL) \n",
        "    return pattern.sub(r\"\\1\\1\", s)\n",
        "    \n",
        "def clean_text(sentence):\n",
        "    \n",
        "    # Remove the dataset specific terms and other html leftovers\n",
        "    elements = {r'#URL#': '', r'#USER#': '', r'#HASHTAG#': '', r'&amp': ' ', r'&quot': '', r'&apos': '', \n",
        "                r'&lt': '', r'&gt': '', r',(?!\\s)': ', ', r'\\\\\\'(?=[a-zA-Z])': r'\\''}\n",
        "    for key, value in elements.items():\n",
        "        sentence = re.sub(key, value, sentence)\n",
        "\n",
        "    # Expand contractions (ex: you're -> you are)\n",
        "    sentence = contractions.fix(sentence, slang=True)\n",
        "\n",
        "    # Normalize sequences of at least 3 repeated characters with a maximum of two letters (ex: hiiiiii -> hii)\n",
        "    sentence = replace_more_than_three(sentence)\n",
        "\n",
        "    # Remove numbers\n",
        "    sentence = re.sub(r'\\d+', '', sentence)\n",
        "\n",
        "    # Remove punctuations\n",
        "    sentence = sentence.translate(str.maketrans(' ', ' ', string.punctuation))\n",
        "\n",
        "    # Transform emojis into their aliases\n",
        "    sentence = emoji.demojize(sentence)\n",
        "    sentence = re.sub(r':', ' ', sentence)\n",
        "\n",
        "    # Remove extra white spaces\n",
        "    sentence = ' '.join(sentence.split())\n",
        "\n",
        "    # Remove any left or right spacing\n",
        "    sentence.strip()\n",
        "\n",
        "    return sentence"
      ]
    },
    {
      "cell_type": "code",
      "execution_count": null,
      "metadata": {
        "colab": {
          "base_uri": "https://localhost:8080/"
        },
        "id": "P7WwzybffTEa",
        "outputId": "95e6c13a-650e-4f51-eb75-a271fc949e99"
      },
      "outputs": [
        {
          "output_type": "stream",
          "name": "stderr",
          "text": [
            "100%|██████████| 40000/40000 [00:03<00:00, 10110.46it/s]\n"
          ]
        }
      ],
      "source": [
        "# Clean the raw texts\n",
        "df['Clean'] = df['Text'].progress_apply(lambda txt: clean_text(txt))\n",
        "\n",
        "# Rearrange the columns\n",
        "df = df[['Text', 'Clean', 'Author', 'Truth']]"
      ]
    },
    {
      "cell_type": "code",
      "execution_count": null,
      "metadata": {
        "colab": {
          "base_uri": "https://localhost:8080/",
          "height": 206
        },
        "id": "VGE1-0iYgDxT",
        "outputId": "a9ee7543-4111-4872-b86f-04986a4c48b1"
      },
      "outputs": [
        {
          "output_type": "execute_result",
          "data": {
            "text/html": [
              "\n",
              "  <div id=\"df-48f52d85-0fd3-41e6-ad21-3d2bd3f7ac19\">\n",
              "    <div class=\"colab-df-container\">\n",
              "      <div>\n",
              "<style scoped>\n",
              "    .dataframe tbody tr th:only-of-type {\n",
              "        vertical-align: middle;\n",
              "    }\n",
              "\n",
              "    .dataframe tbody tr th {\n",
              "        vertical-align: top;\n",
              "    }\n",
              "\n",
              "    .dataframe thead th {\n",
              "        text-align: right;\n",
              "    }\n",
              "</style>\n",
              "<table border=\"1\" class=\"dataframe\">\n",
              "  <thead>\n",
              "    <tr style=\"text-align: right;\">\n",
              "      <th></th>\n",
              "      <th>Text</th>\n",
              "      <th>Clean</th>\n",
              "      <th>Author</th>\n",
              "      <th>Truth</th>\n",
              "    </tr>\n",
              "  </thead>\n",
              "  <tbody>\n",
              "    <tr>\n",
              "      <th>0</th>\n",
              "      <td>\"Hey Jamal (snickering uncontrollable) You wan...</td>\n",
              "      <td>Hey Jamal snickering uncontrollable You want s...</td>\n",
              "      <td>0</td>\n",
              "      <td>1</td>\n",
              "    </tr>\n",
              "    <tr>\n",
              "      <th>1</th>\n",
              "      <td>RT #USER#: Cotton coming out with a banger #URL#</td>\n",
              "      <td>RT Cotton coming out with a banger</td>\n",
              "      <td>0</td>\n",
              "      <td>1</td>\n",
              "    </tr>\n",
              "    <tr>\n",
              "      <th>2</th>\n",
              "      <td>This is meant to be sarcasm but it's a good po...</td>\n",
              "      <td>This is meant to be sarcasm but it is a good p...</td>\n",
              "      <td>0</td>\n",
              "      <td>1</td>\n",
              "    </tr>\n",
              "    <tr>\n",
              "      <th>3</th>\n",
              "      <td>Nick really just compared homosexuality to peo...</td>\n",
              "      <td>Nick really just compared homosexuality to peo...</td>\n",
              "      <td>0</td>\n",
              "      <td>1</td>\n",
              "    </tr>\n",
              "    <tr>\n",
              "      <th>4</th>\n",
              "      <td>PROTECT AMERICA FIRST! LET'S GO!!!!!!!! #URL#</td>\n",
              "      <td>PROTECT AMERICA FIRST LET US GO</td>\n",
              "      <td>0</td>\n",
              "      <td>1</td>\n",
              "    </tr>\n",
              "  </tbody>\n",
              "</table>\n",
              "</div>\n",
              "      <button class=\"colab-df-convert\" onclick=\"convertToInteractive('df-48f52d85-0fd3-41e6-ad21-3d2bd3f7ac19')\"\n",
              "              title=\"Convert this dataframe to an interactive table.\"\n",
              "              style=\"display:none;\">\n",
              "        \n",
              "  <svg xmlns=\"http://www.w3.org/2000/svg\" height=\"24px\"viewBox=\"0 0 24 24\"\n",
              "       width=\"24px\">\n",
              "    <path d=\"M0 0h24v24H0V0z\" fill=\"none\"/>\n",
              "    <path d=\"M18.56 5.44l.94 2.06.94-2.06 2.06-.94-2.06-.94-.94-2.06-.94 2.06-2.06.94zm-11 1L8.5 8.5l.94-2.06 2.06-.94-2.06-.94L8.5 2.5l-.94 2.06-2.06.94zm10 10l.94 2.06.94-2.06 2.06-.94-2.06-.94-.94-2.06-.94 2.06-2.06.94z\"/><path d=\"M17.41 7.96l-1.37-1.37c-.4-.4-.92-.59-1.43-.59-.52 0-1.04.2-1.43.59L10.3 9.45l-7.72 7.72c-.78.78-.78 2.05 0 2.83L4 21.41c.39.39.9.59 1.41.59.51 0 1.02-.2 1.41-.59l7.78-7.78 2.81-2.81c.8-.78.8-2.07 0-2.86zM5.41 20L4 18.59l7.72-7.72 1.47 1.35L5.41 20z\"/>\n",
              "  </svg>\n",
              "      </button>\n",
              "      \n",
              "  <style>\n",
              "    .colab-df-container {\n",
              "      display:flex;\n",
              "      flex-wrap:wrap;\n",
              "      gap: 12px;\n",
              "    }\n",
              "\n",
              "    .colab-df-convert {\n",
              "      background-color: #E8F0FE;\n",
              "      border: none;\n",
              "      border-radius: 50%;\n",
              "      cursor: pointer;\n",
              "      display: none;\n",
              "      fill: #1967D2;\n",
              "      height: 32px;\n",
              "      padding: 0 0 0 0;\n",
              "      width: 32px;\n",
              "    }\n",
              "\n",
              "    .colab-df-convert:hover {\n",
              "      background-color: #E2EBFA;\n",
              "      box-shadow: 0px 1px 2px rgba(60, 64, 67, 0.3), 0px 1px 3px 1px rgba(60, 64, 67, 0.15);\n",
              "      fill: #174EA6;\n",
              "    }\n",
              "\n",
              "    [theme=dark] .colab-df-convert {\n",
              "      background-color: #3B4455;\n",
              "      fill: #D2E3FC;\n",
              "    }\n",
              "\n",
              "    [theme=dark] .colab-df-convert:hover {\n",
              "      background-color: #434B5C;\n",
              "      box-shadow: 0px 1px 3px 1px rgba(0, 0, 0, 0.15);\n",
              "      filter: drop-shadow(0px 1px 2px rgba(0, 0, 0, 0.3));\n",
              "      fill: #FFFFFF;\n",
              "    }\n",
              "  </style>\n",
              "\n",
              "      <script>\n",
              "        const buttonEl =\n",
              "          document.querySelector('#df-48f52d85-0fd3-41e6-ad21-3d2bd3f7ac19 button.colab-df-convert');\n",
              "        buttonEl.style.display =\n",
              "          google.colab.kernel.accessAllowed ? 'block' : 'none';\n",
              "\n",
              "        async function convertToInteractive(key) {\n",
              "          const element = document.querySelector('#df-48f52d85-0fd3-41e6-ad21-3d2bd3f7ac19');\n",
              "          const dataTable =\n",
              "            await google.colab.kernel.invokeFunction('convertToInteractive',\n",
              "                                                     [key], {});\n",
              "          if (!dataTable) return;\n",
              "\n",
              "          const docLinkHtml = 'Like what you see? Visit the ' +\n",
              "            '<a target=\"_blank\" href=https://colab.research.google.com/notebooks/data_table.ipynb>data table notebook</a>'\n",
              "            + ' to learn more about interactive tables.';\n",
              "          element.innerHTML = '';\n",
              "          dataTable['output_type'] = 'display_data';\n",
              "          await google.colab.output.renderOutput(dataTable, element);\n",
              "          const docLink = document.createElement('div');\n",
              "          docLink.innerHTML = docLinkHtml;\n",
              "          element.appendChild(docLink);\n",
              "        }\n",
              "      </script>\n",
              "    </div>\n",
              "  </div>\n",
              "  "
            ],
            "text/plain": [
              "                                                Text  ... Truth\n",
              "0  \"Hey Jamal (snickering uncontrollable) You wan...  ...     1\n",
              "1   RT #USER#: Cotton coming out with a banger #URL#  ...     1\n",
              "2  This is meant to be sarcasm but it's a good po...  ...     1\n",
              "3  Nick really just compared homosexuality to peo...  ...     1\n",
              "4      PROTECT AMERICA FIRST! LET'S GO!!!!!!!! #URL#  ...     1\n",
              "\n",
              "[5 rows x 4 columns]"
            ]
          },
          "metadata": {},
          "execution_count": 11
        }
      ],
      "source": [
        "# Preview the dataset\n",
        "df.head()"
      ]
    },
    {
      "cell_type": "code",
      "execution_count": null,
      "metadata": {
        "colab": {
          "base_uri": "https://localhost:8080/"
        },
        "id": "8yr3e6Og-c4w",
        "outputId": "8d9aae27-d09f-4bab-8685-b4c629b53f79"
      },
      "outputs": [
        {
          "output_type": "stream",
          "name": "stdout",
          "text": [
            "Number of tweets in training set: 28000\n",
            "Number of tweets in validation set: 4000\n",
            "Number of tweets in test set: 8000\n"
          ]
        }
      ],
      "source": [
        "# Divide the dataset into training, validation and test sets\n",
        "X_train, X_test, y_train, y_test = train_test_split(df['Clean'], df['Truth'], test_size=0.2, shuffle=True, random_state=8)\n",
        "X_train, X_val, y_train, y_val = train_test_split(X_train, y_train, test_size=0.125, shuffle=True, random_state=8) # 0.125 x 0.8 = 0.1\n",
        "\n",
        "print(f'Number of tweets in training set: {X_train.shape[0]}')\n",
        "print(f'Number of tweets in validation set: {X_val.shape[0]}')\n",
        "print(f'Number of tweets in test set: {X_test.shape[0]}')"
      ]
    },
    {
      "cell_type": "markdown",
      "metadata": {
        "id": "eF7iO-LrUBUx"
      },
      "source": [
        "# Modelling"
      ]
    },
    {
      "cell_type": "code",
      "execution_count": null,
      "metadata": {
        "id": "pjSOAQY7UEAG"
      },
      "outputs": [],
      "source": [
        "# Utilised functions\n",
        "def majority_voting(model, transformer=False):\n",
        "    autors = [df['Author'][i] for i in test_labels.keys()]\n",
        "    majority_voting = pd.DataFrame(columns = ['Author', 'True', 'Pred'])\n",
        "    majority_voting['Author'] = pd.unique(autors)\n",
        "\n",
        "    predictions =  pd.DataFrame(columns = ['ID', 'Author', 'Label'])\n",
        "    if transformer:\n",
        "        transformer_pred = model.predict(test_dataset)\n",
        "        predictions['Label'] = [np.argmax(s) for s in transformer_pred[0]]\n",
        "    else:\n",
        "        predictions['Label'] = np.round(model.predict(test_features)).reshape(8000).tolist()\n",
        "    predictions['ID'] = test_labels.keys()\n",
        "    predictions['Author'] = autors\n",
        "\n",
        "    for author in majority_voting['Author']:\n",
        "      \n",
        "        # Get the true labels\n",
        "        majority_voting.loc[majority_voting['Author'] == author, 'True'] = df['Truth'][[i for i in (predictions['ID'][predictions['Author'] == author])][0]]\n",
        "\n",
        "        # Get all the predicted label given an author\n",
        "        labels = predictions[predictions['Author'] == author]\n",
        "\n",
        "        # Implement majority vote\n",
        "        if(len(labels[labels['Label'] == 1]) > len(labels[labels['Label'] == 0])):  \n",
        "            majority_voting.loc[majority_voting['Author'] == author, 'Pred'] = 1\n",
        "        else:\n",
        "            majority_voting.loc[majority_voting['Author'] == author, 'Pred'] = 0\n",
        "    \n",
        "    return [i for i in majority_voting['True']], [i for i in majority_voting['Pred']]\n",
        "\n",
        "def plot_cm(labels, pred):\n",
        "    cm = confusion_matrix(labels, pred)\n",
        "    disp = ConfusionMatrixDisplay(confusion_matrix=cm)\n",
        "    disp.plot()"
      ]
    },
    {
      "cell_type": "markdown",
      "metadata": {
        "id": "pq-VDR2KmKFw"
      },
      "source": [
        "## Model (SVM)"
      ]
    },
    {
      "cell_type": "code",
      "execution_count": null,
      "metadata": {
        "id": "eftOB0HzmqUd"
      },
      "outputs": [],
      "source": [
        "# Fit the TF-IDF vectorizer and transform the texts\n",
        "vectorizer = TfidfVectorizer().fit(X_train)\n",
        "train_features = vectorizer.transform(X_train)\n",
        "test_features = vectorizer.transform(X_test)\n",
        "\n",
        "# Change data type of labels to int64\n",
        "train_labels = y_train.astype('int64')\n",
        "test_labels = y_test.astype('int64')"
      ]
    },
    {
      "cell_type": "code",
      "execution_count": null,
      "metadata": {
        "id": "xqEjJA1KnmSw"
      },
      "outputs": [],
      "source": [
        "# Define the model and distribution for random search\n",
        "if TRAIN:\n",
        "    model = SVC()\n",
        "    distributions = {'C': uniform(loc=0, scale=1), 'kernel': ['poly', 'rbf', 'sigmoid']}"
      ]
    },
    {
      "cell_type": "code",
      "execution_count": null,
      "metadata": {
        "id": "QrOcPSLfrs5D",
        "colab": {
          "base_uri": "https://localhost:8080/"
        },
        "outputId": "cdd2b599-5f2a-4436-921f-72ee0ea8eaf4"
      },
      "outputs": [
        {
          "output_type": "stream",
          "name": "stdout",
          "text": [
            "Fitting 5 folds for each of 3 candidates, totalling 15 fits\n",
            "[CV] END ...................C=0.0658448740535259, kernel=rbf; total time= 1.2min\n",
            "[CV] END ...................C=0.0658448740535259, kernel=rbf; total time= 1.2min\n",
            "[CV] END ...................C=0.0658448740535259, kernel=rbf; total time= 1.2min\n",
            "[CV] END ...................C=0.0658448740535259, kernel=rbf; total time= 1.2min\n",
            "[CV] END ...................C=0.0658448740535259, kernel=rbf; total time= 1.2min\n",
            "[CV] END ...............C=0.2641533788656698, kernel=sigmoid; total time= 1.1min\n",
            "[CV] END ...............C=0.2641533788656698, kernel=sigmoid; total time= 1.1min\n",
            "[CV] END ...............C=0.2641533788656698, kernel=sigmoid; total time= 1.1min\n",
            "[CV] END ...............C=0.2641533788656698, kernel=sigmoid; total time= 1.1min\n",
            "[CV] END ...............C=0.2641533788656698, kernel=sigmoid; total time= 1.1min\n",
            "[CV] END ...................C=0.5935775687368425, kernel=rbf; total time= 1.4min\n",
            "[CV] END ...................C=0.5935775687368425, kernel=rbf; total time= 1.4min\n",
            "[CV] END ...................C=0.5935775687368425, kernel=rbf; total time= 1.4min\n",
            "[CV] END ...................C=0.5935775687368425, kernel=rbf; total time= 1.4min\n",
            "[CV] END ...................C=0.5935775687368425, kernel=rbf; total time= 1.4min\n"
          ]
        }
      ],
      "source": [
        "# Get the best model hyperparameters using random search\n",
        "if TRAIN:\n",
        "    clf = RandomizedSearchCV(model, distributions, \n",
        "                            scoring='accuracy', \n",
        "                            cv=5, n_iter=3, verbose=2)\n",
        "\n",
        "    best_svm_model = clf.fit(train_features, train_labels)"
      ]
    },
    {
      "cell_type": "code",
      "execution_count": null,
      "metadata": {
        "id": "G0nVB-3Psmt0",
        "colab": {
          "base_uri": "https://localhost:8080/"
        },
        "outputId": "3e99cd0f-1c13-4e6d-cb52-e03b0a54c53f"
      },
      "outputs": [
        {
          "output_type": "stream",
          "name": "stdout",
          "text": [
            "Best Accuracy Score: 0.612\n",
            "Best Hyperparameters: {'C': 0.5935775687368425, 'kernel': 'rbf'}\n"
          ]
        }
      ],
      "source": [
        " # Print the best model results and hyperparameters\n",
        " if TRAIN:\n",
        "    print(f'Best Accuracy Score: {round(best_svm_model.best_score_, 3)}')\n",
        "    print(f'Best Hyperparameters: {best_svm_model.best_params_}')"
      ]
    },
    {
      "cell_type": "code",
      "execution_count": null,
      "metadata": {
        "id": "6V92XsCOxVDf"
      },
      "outputs": [],
      "source": [
        "# Save the best model\n",
        "if TRAIN:\n",
        "    with open('best_svm_model.pkl', 'wb') as f:\n",
        "        pickle.dump(best_svm_model, f)"
      ]
    },
    {
      "cell_type": "code",
      "execution_count": null,
      "metadata": {
        "id": "26KlKE6key1g",
        "colab": {
          "base_uri": "https://localhost:8080/"
        },
        "outputId": "38b32383-e7da-4e5b-f171-e08c1fc0f3c9"
      },
      "outputs": [
        {
          "output_type": "stream",
          "name": "stdout",
          "text": [
            "Downloading...\n",
            "From: https://drive.google.com/uc?id=1YSOyxHLkgFP8_g4RCJSTo2-6m_LlRTaZ\n",
            "To: /content/best_svm_model.pkl\n",
            "\r  0% 0.00/4.18M [00:00<?, ?B/s]\r100% 4.18M/4.18M [00:00<00:00, 36.8MB/s]\n"
          ]
        }
      ],
      "source": [
        "# Download and load the best SVM model\n",
        "if TRAIN == False:\n",
        "    !gdown --id 1YSOyxHLkgFP8_g4RCJSTo2-6m_LlRTaZ\n",
        "    with open('best_svm_model.pkl', 'rb') as f:\n",
        "        best_svm_model = pickle.load(f)"
      ]
    },
    {
      "cell_type": "code",
      "execution_count": null,
      "metadata": {
        "colab": {
          "base_uri": "https://localhost:8080/",
          "height": 444
        },
        "id": "DdhxdY5Jg4jx",
        "outputId": "202a5f1f-602a-49c0-fd2a-1202973c3f14"
      },
      "outputs": [
        {
          "output_type": "stream",
          "name": "stdout",
          "text": [
            "              precision    recall  f1-score   support\n",
            "\n",
            "           0       0.74      0.79      0.76       100\n",
            "           1       0.77      0.72      0.75       100\n",
            "\n",
            "    accuracy                           0.76       200\n",
            "   macro avg       0.76      0.76      0.75       200\n",
            "weighted avg       0.76      0.76      0.75       200\n",
            "\n"
          ]
        },
        {
          "output_type": "display_data",
          "data": {
            "image/png": "[encoded data removed]",
            "text/plain": [
              "<Figure size 432x288 with 2 Axes>"
            ]
          },
          "metadata": {
            "needs_background": "light"
          }
        }
      ],
      "source": [
        "# Evaluate the best SVM model on the test set\n",
        "true, pred = majority_voting(best_svm_model)\n",
        "print(classification_report(true, pred))\n",
        "plot_cm(true, pred)"
      ]
    },
    {
      "cell_type": "markdown",
      "metadata": {
        "id": "NKjZ76znZNF-"
      },
      "source": [
        "## Model (LSTM & GRU)"
      ]
    },
    {
      "cell_type": "code",
      "execution_count": null,
      "metadata": {
        "colab": {
          "base_uri": "https://localhost:8080/"
        },
        "id": "1dJjgnWiZgVH",
        "outputId": "c8700161-f342-4533-a881-42a8858e17e9"
      },
      "outputs": [
        {
          "output_type": "stream",
          "name": "stdout",
          "text": [
            "Downloading...\n",
            "From: https://nlp.stanford.edu/data/glove.6B.zip\n",
            "To: /content/glove.6B.zip\n",
            "100% 862M/862M [02:40<00:00, 5.38MB/s]\n"
          ]
        }
      ],
      "source": [
        "# Download the GloVe embeddings file\n",
        "!gdown https://nlp.stanford.edu/data/glove.6B.zip\n",
        "\n",
        "# Unzip the GloVe embeddings file\n",
        "!unzip -q -o glove.6B.zip -d embeddings"
      ]
    },
    {
      "cell_type": "code",
      "execution_count": null,
      "metadata": {
        "id": "Mgz9c640ZwaF"
      },
      "outputs": [],
      "source": [
        "# Utilised functions\n",
        "def encode(sentence, embeddings):\n",
        "    oov_dict = {}\n",
        "    features = []\n",
        "\n",
        "    tokens = word_tokenize(sentence)\n",
        "    for word in tokens:\n",
        "\n",
        "        # If the word is not in the GloVe dictionary (OOV), return random array\n",
        "        if word not in embeddings:\n",
        "            if word not in oov_dict:\n",
        "              \n",
        "                # Generate random array of size 300 and store in dict\n",
        "                oov_dict[word] = np.random.rand(300)\n",
        "            \n",
        "            features.append(oov_dict[word])\n",
        "\n",
        "        else:\n",
        "          features.append(embeddings[word])\n",
        "    \n",
        "    return features\n",
        "\n",
        "def plot_history(hist):\n",
        "    plt.figure(figsize=(20, 7))\n",
        "\n",
        "    # Plot training & validation loss values\n",
        "    plt.subplot(1, 2, 1)\n",
        "    plt.plot(hist.history['loss'])\n",
        "    plt.plot(hist.history['val_loss'])\n",
        "    plt.title('Loss against Epoch')\n",
        "    plt.ylabel('Loss')\n",
        "    plt.xlabel('Epoch')\n",
        "    plt.legend(['Training', 'Validation'], loc='upper left')\n",
        "\n",
        "    # Plot training & validation accuracy values\n",
        "    plt.subplot(1, 2, 2)\n",
        "    plt.plot(hist.history['Accuracy'])\n",
        "    plt.plot(hist.history['val_Accuracy'])\n",
        "    plt.title('Accuracy against Epoch')\n",
        "    plt.ylabel('Accuracy')\n",
        "    plt.xlabel('Epoch')\n",
        "    plt.legend(['Training', 'Validation'], loc='upper left')"
      ]
    },
    {
      "cell_type": "code",
      "execution_count": null,
      "metadata": {
        "id": "PjOM1EofZzU6"
      },
      "outputs": [],
      "source": [
        "# Create the dictionary of GloVe embeddings\n",
        "glove_dict = {}\n",
        "with open('/content/embeddings/glove.6B.300d.txt','r') as f:\n",
        "    for line in f:\n",
        "        values = line.split()\n",
        "        word = values[0]\n",
        "        vector = np.asarray(values[1:], 'float32')\n",
        "        glove_dict[word]=vector"
      ]
    },
    {
      "cell_type": "code",
      "execution_count": null,
      "metadata": {
        "id": "XkVfXd83-1mi"
      },
      "outputs": [],
      "source": [
        "# Encode the sentences using GloVe embeddings\n",
        "train_features = X_train.apply(encode, embeddings=glove_dict)\n",
        "val_features = X_val.apply(encode, embeddings=glove_dict)\n",
        "test_features = X_test.apply(encode, embeddings=glove_dict)\n",
        "\n",
        "# Pad the features to a fixed length\n",
        "max_length = 50\n",
        "train_features = np.array(pad_sequences(train_features, maxlen=max_length, padding='post', dtype='float32'))\n",
        "val_features = np.array(pad_sequences(val_features, maxlen=max_length, padding='post', dtype='float32'))\n",
        "test_features = np.array(pad_sequences(test_features, maxlen=max_length, padding='post', dtype='float32'))\n",
        "\n",
        "# Change data type of labels to float32\n",
        "train_labels = y_train.astype('float32')\n",
        "val_labels = y_val.astype('float32')\n",
        "test_labels = y_test.astype('float32')"
      ]
    },
    {
      "cell_type": "markdown",
      "metadata": {
        "id": "4QyaynfrUrT6"
      },
      "source": [
        "### Bidirectional LSTM"
      ]
    },
    {
      "cell_type": "code",
      "execution_count": null,
      "metadata": {
        "id": "XnTmVNTcaCwi",
        "colab": {
          "base_uri": "https://localhost:8080/"
        },
        "outputId": "a7cbd6a5-c3b3-4c11-97e6-40a60a203bf4"
      },
      "outputs": [
        {
          "output_type": "stream",
          "name": "stdout",
          "text": [
            "Trial 3 Complete [00h 00m 55s]\n",
            "val_Accuracy: 0.5517500042915344\n",
            "\n",
            "Best val_Accuracy So Far: 0.5522500276565552\n",
            "Total elapsed time: 00h 03m 48s\n",
            "INFO:tensorflow:Oracle triggered exit\n"
          ]
        }
      ],
      "source": [
        "# Bidirectional LSTM with a Dense layer\n",
        "if TRAIN:\n",
        "    def lstm_model(hp):\n",
        "        model = Sequential()\n",
        "        model.add(InputLayer(input_shape=(50, 300)))\n",
        "        model.add(Bidirectional(LSTM(units=hp.Int('units', min_value=64, max_value=320, step=64, default=256))))\n",
        "        model.add(Dense(1))\n",
        "        model.add(Activation('sigmoid'))\n",
        "        model.compile(loss='binary_crossentropy', optimizer=Adam(learning_rate=2e-5), metrics='Accuracy')\n",
        "        return model\n",
        "\n",
        "    # Hyperparameter optimization using random search\n",
        "    tuner = RandomSearch(lstm_model, objective=Objective('val_Accuracy', direction='max'), max_trials=3, overwrite=True)\n",
        "    tuner.search(train_features, train_labels, epochs=5, validation_data=(val_features, val_labels), batch_size=32)"
      ]
    },
    {
      "cell_type": "code",
      "execution_count": null,
      "metadata": {
        "id": "KxLFtG0taELn",
        "colab": {
          "base_uri": "https://localhost:8080/"
        },
        "outputId": "ff211a22-61fd-41b1-f609-b868f491212f"
      },
      "outputs": [
        {
          "output_type": "stream",
          "name": "stdout",
          "text": [
            "Epoch 1/10\n",
            "875/875 [==============================] - 13s 12ms/step - loss: 0.6920 - Accuracy: 0.5197 - val_loss: 0.6916 - val_Accuracy: 0.5260\n",
            "Epoch 2/10\n",
            "875/875 [==============================] - 9s 11ms/step - loss: 0.6890 - Accuracy: 0.5391 - val_loss: 0.6892 - val_Accuracy: 0.5387\n",
            "Epoch 3/10\n",
            "875/875 [==============================] - 11s 12ms/step - loss: 0.6854 - Accuracy: 0.5505 - val_loss: 0.6856 - val_Accuracy: 0.5475\n",
            "Epoch 4/10\n",
            "875/875 [==============================] - 9s 10ms/step - loss: 0.6809 - Accuracy: 0.5615 - val_loss: 0.6835 - val_Accuracy: 0.5487\n",
            "Epoch 5/10\n",
            "875/875 [==============================] - 9s 10ms/step - loss: 0.6779 - Accuracy: 0.5658 - val_loss: 0.6841 - val_Accuracy: 0.5452\n",
            "Epoch 6/10\n",
            "875/875 [==============================] - 9s 11ms/step - loss: 0.6756 - Accuracy: 0.5715 - val_loss: 0.6849 - val_Accuracy: 0.5510\n",
            "Epoch 7/10\n",
            "875/875 [==============================] - 9s 10ms/step - loss: 0.6738 - Accuracy: 0.5741 - val_loss: 0.6827 - val_Accuracy: 0.5468\n",
            "Epoch 8/10\n",
            "875/875 [==============================] - 9s 11ms/step - loss: 0.6725 - Accuracy: 0.5799 - val_loss: 0.6837 - val_Accuracy: 0.5443\n",
            "Epoch 9/10\n",
            "875/875 [==============================] - 9s 10ms/step - loss: 0.6708 - Accuracy: 0.5803 - val_loss: 0.6841 - val_Accuracy: 0.5487\n",
            "Epoch 10/10\n",
            "875/875 [==============================] - 9s 11ms/step - loss: 0.6696 - Accuracy: 0.5825 - val_loss: 0.6837 - val_Accuracy: 0.5500\n"
          ]
        }
      ],
      "source": [
        "# Train the best model for 10 epochs\n",
        "if TRAIN:\n",
        "    best_lstm_model = tuner.hypermodel.build(tuner.get_best_hyperparameters()[0])\n",
        "    hist_lstm = best_lstm_model.fit(train_features, train_labels, epochs=10, validation_data=(val_features, val_labels), batch_size=32, \n",
        "                                    callbacks=EarlyStopping(monitor='val_loss', patience=3))\n",
        "\n",
        "    # Save the best model\n",
        "    best_lstm_model.save('best_lstm_model.h5')"
      ]
    },
    {
      "cell_type": "code",
      "source": [
        "# Plot the training history of the model\n",
        "if TRAIN:\n",
        "    plot_history(hist_lstm)"
      ],
      "metadata": {
        "colab": {
          "base_uri": "https://localhost:8080/",
          "height": 368
        },
        "id": "c6ePxtnOYHDS",
        "outputId": "035cbe78-7d15-474c-921a-4fc51220c04b"
      },
      "execution_count": null,
      "outputs": [
        {
          "output_type": "display_data",
          "data": {
            "image/png": "[encoded data removed]",
            "text/plain": [
              "<Figure size 1440x504 with 2 Axes>"
            ]
          },
          "metadata": {
            "needs_background": "light"
          }
        }
      ]
    },
    {
      "cell_type": "code",
      "execution_count": null,
      "metadata": {
        "id": "Oz6ZPuoSUgVK",
        "colab": {
          "base_uri": "https://localhost:8080/"
        },
        "outputId": "83bc847c-9bd4-4f18-c44d-be0dc1b43cf4"
      },
      "outputs": [
        {
          "output_type": "stream",
          "name": "stdout",
          "text": [
            "Downloading...\n",
            "From: https://drive.google.com/uc?id=1HBvU5p3y7HXJcHkDWyivCsKHpGfpHg0x\n",
            "To: /content/best_lstm_model.h5\n",
            "100% 5.32M/5.32M [00:00<00:00, 32.7MB/s]\n"
          ]
        }
      ],
      "source": [
        "# Download and load the best LSTM model\n",
        "if TRAIN == False:\n",
        "    !gdown --id 1HBvU5p3y7HXJcHkDWyivCsKHpGfpHg0x\n",
        "    best_lstm_model = load_model('/content/best_lstm_model.h5')"
      ]
    },
    {
      "cell_type": "code",
      "source": [
        "# Plot the model's architecture\n",
        "plot_model(best_lstm_model, show_shapes=True, show_layer_names=True)"
      ],
      "metadata": {
        "colab": {
          "base_uri": "https://localhost:8080/",
          "height": 422
        },
        "id": "gRpFhr61seH_",
        "outputId": "c17baa32-40da-493e-96b5-39cf653ab2e9"
      },
      "execution_count": null,
      "outputs": [
        {
          "output_type": "execute_result",
          "data": {
            "image/png": "[encoded data removed]",
            "text/plain": [
              "<IPython.core.display.Image object>"
            ]
          },
          "metadata": {},
          "execution_count": 22
        }
      ]
    },
    {
      "cell_type": "code",
      "execution_count": null,
      "metadata": {
        "colab": {
          "base_uri": "https://localhost:8080/",
          "height": 444
        },
        "id": "a5C39ugGaX9G",
        "outputId": "9e4e6117-9c16-42bd-b83c-a2bef3b37be1"
      },
      "outputs": [
        {
          "output_type": "stream",
          "name": "stdout",
          "text": [
            "              precision    recall  f1-score   support\n",
            "\n",
            "           0       0.60      0.79      0.68       100\n",
            "           1       0.70      0.48      0.57       100\n",
            "\n",
            "    accuracy                           0.64       200\n",
            "   macro avg       0.65      0.64      0.63       200\n",
            "weighted avg       0.65      0.64      0.63       200\n",
            "\n"
          ]
        },
        {
          "output_type": "display_data",
          "data": {
            "image/png": "[encoded data removed]",
            "text/plain": [
              "<Figure size 432x288 with 2 Axes>"
            ]
          },
          "metadata": {
            "needs_background": "light"
          }
        }
      ],
      "source": [
        "# Evaluate the best LSTM model on the test set\n",
        "true, pred = majority_voting(best_lstm_model)\n",
        "print(classification_report(true, pred))\n",
        "plot_cm(true, pred)"
      ]
    },
    {
      "cell_type": "markdown",
      "metadata": {
        "id": "enbovm0DUxk8"
      },
      "source": [
        "### Bidirectional GRU"
      ]
    },
    {
      "cell_type": "code",
      "execution_count": null,
      "metadata": {
        "id": "Nejq8R6kaGw_",
        "colab": {
          "base_uri": "https://localhost:8080/"
        },
        "outputId": "4d9979e7-0bdf-4a84-b35c-2d1b7c84da8f"
      },
      "outputs": [
        {
          "output_type": "stream",
          "name": "stdout",
          "text": [
            "Trial 3 Complete [00h 00m 44s]\n",
            "val_Accuracy: 0.5325000286102295\n",
            "\n",
            "Best val_Accuracy So Far: 0.5515000224113464\n",
            "Total elapsed time: 00h 03m 00s\n",
            "INFO:tensorflow:Oracle triggered exit\n"
          ]
        }
      ],
      "source": [
        "# Bidirectional GRU with a Dense layer\n",
        "if TRAIN:\n",
        "    def gru_model(hp):\n",
        "        model = Sequential()\n",
        "        model.add(InputLayer(input_shape=(50, 300)))\n",
        "        model.add(Bidirectional(GRU(units=hp.Int('units', min_value=64, max_value=320, step=64, default=256))))\n",
        "        model.add(Dense(1))\n",
        "        model.add(Activation('sigmoid'))\n",
        "        model.compile(loss='binary_crossentropy', optimizer=Adam(learning_rate=2e-5), metrics='Accuracy')\n",
        "        return model\n",
        "\n",
        "    # Hyperparameter optimization using random search\n",
        "    tuner = RandomSearch(gru_model, objective=Objective('val_Accuracy', direction='max'), max_trials=3, overwrite=True)\n",
        "    tuner.search(train_features, train_labels, epochs=5, validation_data=(val_features, val_labels), batch_size=32)"
      ]
    },
    {
      "cell_type": "code",
      "execution_count": null,
      "metadata": {
        "id": "7MhaiFnwaI6E",
        "colab": {
          "base_uri": "https://localhost:8080/"
        },
        "outputId": "a4addb4d-a81b-4f0a-96f3-d71695b6df5d"
      },
      "outputs": [
        {
          "output_type": "stream",
          "name": "stdout",
          "text": [
            "Epoch 1/10\n",
            "875/875 [==============================] - 12s 11ms/step - loss: 0.6940 - Accuracy: 0.5141 - val_loss: 0.6904 - val_Accuracy: 0.5383\n",
            "Epoch 2/10\n",
            "875/875 [==============================] - 9s 10ms/step - loss: 0.6901 - Accuracy: 0.5310 - val_loss: 0.6887 - val_Accuracy: 0.5435\n",
            "Epoch 3/10\n",
            "875/875 [==============================] - 9s 10ms/step - loss: 0.6872 - Accuracy: 0.5431 - val_loss: 0.6894 - val_Accuracy: 0.5337\n",
            "Epoch 4/10\n",
            "875/875 [==============================] - 9s 10ms/step - loss: 0.6852 - Accuracy: 0.5462 - val_loss: 0.6890 - val_Accuracy: 0.5310\n",
            "Epoch 5/10\n",
            "875/875 [==============================] - 9s 10ms/step - loss: 0.6829 - Accuracy: 0.5562 - val_loss: 0.6849 - val_Accuracy: 0.5487\n",
            "Epoch 6/10\n",
            "875/875 [==============================] - 9s 10ms/step - loss: 0.6809 - Accuracy: 0.5600 - val_loss: 0.6846 - val_Accuracy: 0.5477\n",
            "Epoch 7/10\n",
            "875/875 [==============================] - 9s 10ms/step - loss: 0.6789 - Accuracy: 0.5642 - val_loss: 0.6837 - val_Accuracy: 0.5515\n",
            "Epoch 8/10\n",
            "875/875 [==============================] - 9s 10ms/step - loss: 0.6769 - Accuracy: 0.5675 - val_loss: 0.6836 - val_Accuracy: 0.5500\n",
            "Epoch 9/10\n",
            "875/875 [==============================] - 9s 10ms/step - loss: 0.6747 - Accuracy: 0.5747 - val_loss: 0.6839 - val_Accuracy: 0.5530\n",
            "Epoch 10/10\n",
            "875/875 [==============================] - 9s 10ms/step - loss: 0.6732 - Accuracy: 0.5765 - val_loss: 0.6828 - val_Accuracy: 0.5560\n"
          ]
        }
      ],
      "source": [
        "# Train the best model for 10 epochs\n",
        "if TRAIN:\n",
        "    best_gru_model = tuner.hypermodel.build(tuner.get_best_hyperparameters()[0])\n",
        "    hist_gru = best_gru_model.fit(train_features, train_labels, epochs=10, validation_data=(val_features, val_labels), batch_size=32, \n",
        "                                  callbacks=EarlyStopping(monitor='val_loss', patience=3))\n",
        "\n",
        "    # Save the best model\n",
        "    best_gru_model.save('best_gru_model.h5')"
      ]
    },
    {
      "cell_type": "code",
      "source": [
        "# Plot the training history of the model\n",
        "if TRAIN:\n",
        "    plot_history(hist_gru)"
      ],
      "metadata": {
        "id": "xbrOCsZLX-QC",
        "colab": {
          "base_uri": "https://localhost:8080/",
          "height": 368
        },
        "outputId": "c46813b1-4690-4099-ee1e-546ff1f4c19e"
      },
      "execution_count": null,
      "outputs": [
        {
          "output_type": "display_data",
          "data": {
            "image/png": "[encoded data removed]",
            "text/plain": [
              "<Figure size 1440x504 with 2 Axes>"
            ]
          },
          "metadata": {
            "needs_background": "light"
          }
        }
      ]
    },
    {
      "cell_type": "code",
      "execution_count": null,
      "metadata": {
        "id": "PGKw0ALNUln7",
        "colab": {
          "base_uri": "https://localhost:8080/"
        },
        "outputId": "b1c896fa-14ff-441c-bf0e-911f38d5a082"
      },
      "outputs": [
        {
          "output_type": "stream",
          "name": "stdout",
          "text": [
            "Downloading...\n",
            "From: https://drive.google.com/uc?id=1vFEaypgQJ_kaI1e_NrMrQUzdIsPvo3Qq\n",
            "To: /content/best_gru_model.h5\n",
            "100% 10.3M/10.3M [00:00<00:00, 47.9MB/s]\n"
          ]
        }
      ],
      "source": [
        "# Download and load the best GRU model\n",
        "if TRAIN == False:\n",
        "    !gdown --id 1vFEaypgQJ_kaI1e_NrMrQUzdIsPvo3Qq\n",
        "    best_gru_model = load_model('/content/best_gru_model.h5')"
      ]
    },
    {
      "cell_type": "code",
      "source": [
        "# Plot the model's architecture\n",
        "plot_model(best_gru_model, show_shapes=True, show_layer_names=True)"
      ],
      "metadata": {
        "colab": {
          "base_uri": "https://localhost:8080/",
          "height": 422
        },
        "id": "F6bdRJJCsZYH",
        "outputId": "714b448b-88cd-46f0-905f-4990a40a5ebf"
      },
      "execution_count": null,
      "outputs": [
        {
          "output_type": "execute_result",
          "data": {
            "image/png": "[encoded data removed]",
            "text/plain": [
              "<IPython.core.display.Image object>"
            ]
          },
          "metadata": {},
          "execution_count": 24
        }
      ]
    },
    {
      "cell_type": "code",
      "execution_count": null,
      "metadata": {
        "colab": {
          "base_uri": "https://localhost:8080/",
          "height": 444
        },
        "id": "PhEj35nHcSDW",
        "outputId": "11e24704-8e51-468c-d517-1ba7e464e019"
      },
      "outputs": [
        {
          "output_type": "stream",
          "name": "stdout",
          "text": [
            "              precision    recall  f1-score   support\n",
            "\n",
            "           0       0.69      0.59      0.64       100\n",
            "           1       0.64      0.74      0.69       100\n",
            "\n",
            "    accuracy                           0.67       200\n",
            "   macro avg       0.67      0.67      0.66       200\n",
            "weighted avg       0.67      0.67      0.66       200\n",
            "\n"
          ]
        },
        {
          "output_type": "display_data",
          "data": {
            "image/png": "[encoded data removed]",
            "text/plain": [
              "<Figure size 432x288 with 2 Axes>"
            ]
          },
          "metadata": {
            "needs_background": "light"
          }
        }
      ],
      "source": [
        "# Evaluate the best GRU model on the test set\n",
        "true, pred = majority_voting(best_gru_model)\n",
        "print(classification_report(true, pred))\n",
        "plot_cm(true, pred)"
      ]
    },
    {
      "cell_type": "markdown",
      "metadata": {
        "id": "3r6NF0FV4DCc"
      },
      "source": [
        "## Model (Transformer)"
      ]
    },
    {
      "cell_type": "code",
      "execution_count": null,
      "metadata": {
        "id": "JbKcTbB96u6T"
      },
      "outputs": [],
      "source": [
        "# Utilised functions\n",
        "class Dataset(torch.utils.data.Dataset):    \n",
        "    def __init__(self, inputs, labels):          \n",
        "        self.inputs = inputs['input_ids']\n",
        "        self.attentions = inputs['attention_mask']      \n",
        "        self.labels = labels\n",
        "\n",
        "    def __len__(self):\n",
        "        return len(self.inputs)\n",
        "     \n",
        "    def __getitem__(self, idx):\n",
        "        input = self.inputs[idx]\n",
        "        attention = self.attentions[idx]\n",
        "\n",
        "        if self.labels is None:\n",
        "            sample = {'input_ids': input, 'attention_mask': attention}\n",
        "        \n",
        "        else:\n",
        "            label = self.labels[idx]\n",
        "            sample = {'input_ids': input, 'attention_mask': attention, 'labels': label}\n",
        "        \n",
        "        return sample\n",
        "\n",
        "def compute_metrics(p):\n",
        "    pred, labels = p\n",
        "    pred = np.argmax(pred, axis=1)\n",
        "    accuracy = accuracy_score(y_true=labels, y_pred=pred)\n",
        "    return {'accuracy': accuracy}"
      ]
    },
    {
      "cell_type": "code",
      "execution_count": null,
      "metadata": {
        "id": "BIYRFhDWelTO"
      },
      "outputs": [],
      "source": [
        "# Check if the GPU is available\n",
        "device = 'cuda:0' if torch.cuda.is_available() else 'cpu'"
      ]
    },
    {
      "cell_type": "code",
      "execution_count": null,
      "metadata": {
        "id": "oJqHjwEs9ip8",
        "colab": {
          "base_uri": "https://localhost:8080/",
          "height": 209,
          "referenced_widgets": [
            "3465dcd95574480e9c91b3a00679e7a0",
            "86e79ee416ae4eac968b393f60f23f1e",
            "3970ead179404b9db7157ff223c8da2f",
            "ca91c79f225a4cbabe3dc1687345ebe1",
            "f082e88b41ce42149d501eecf9d8e506",
            "84c94c3c525d4b5db512f63bcae72025",
            "31e22b2b74f44c82acd34d5011fc738f",
            "c5d60a906c4e421c94b3a04b69bc3693",
            "8905eeb1bbfc4f95a1e3da28c124186d",
            "20a0329018cb4e1cb57bc769df34df0e",
            "c0767ece5596438ea84a11d4b755ff05",
            "36431d43ce2d44378ffdba1b4c3ea14f",
            "f694218488584d3f816aa091d7777142",
            "5dd4332a7c0b45f6a66c0bf7d301ab89",
            "fa7d0090d4cd47af9eb4a028a55f4569",
            "70eebe73066e41938488ac93eb914905",
            "2baffcf1ec7f42138fa0b119bcf26227",
            "397bf06dd6d74a5bb15547dcd8c0a856",
            "4c6f8a84c25a44f6afa246dc0b8a91cf",
            "3477a501a2be4886971d8bf9f59061c4",
            "d157df2258664f6492fe4cbc77fae42a",
            "c06aa3af4ad84e54af660e7aa36ecc39",
            "b80a38a225f94b4599475883eb450267",
            "ee8352deb42e430ab907bb65eec89546",
            "c939ef030e0e461fa2d5962c96428948",
            "2848e7bb74ed49d89a87dcfe246856bd",
            "35188f4ae1294e63a7cd62c569dc8094",
            "945a810a00ff4cb7beffcec30bdbdd7e",
            "af7fc3ab5bd64a9f834f4548028a9540",
            "ecaa057e56314c7fb0e820f7ffeb833b",
            "184cc6b69fab4427a0921ccd5cfe3416",
            "169a1418228f454e80c79964b6ba573e",
            "f767550d63e34332ba4174c318667eb9",
            "03701f2fa4c24971b165003c078d401d",
            "919e620ae63548cc9e41a90294a30c2a",
            "946ddeb6b140425a949b6ab9fe010980",
            "bb02424190b740caabfe923ca2a15e29",
            "dbb81dabeab94b7db3b42c0b52b135b6",
            "fdf2e0367a7f4b89bcdc21109f0ccafc",
            "ff70dccee82c42c19021beccde116942",
            "b493f5142b0a403889a89b0e251350ec",
            "b812d87442e84ee09db43da6b515de5e",
            "2ab0ed4396cd4345b786c593272e0f96",
            "e7102dad35f043d8a6e66689a2c29459",
            "55d5eb46092e4b929e70dc24fb312856",
            "bb681c03fb73413a8076ad5714853c6c",
            "5996c890d28042458f09a1b989ddf290",
            "12f11558f6e6493cb78c798a062d73ea",
            "67a9313ba2d243ebbfdd017cccf73705",
            "7f269562a62046cb86e9f283a2b374c6",
            "2095f367a43142fdbd972d83d9c78e1a",
            "5cfaf9d020814d4a966f13d60d99df0a",
            "96cb7372c5114672a514ba2695fd9b0c",
            "2f5a72669a014350b647796009abe27f",
            "5673ec57a1dc4886b780464fbc19440e",
            "5f68ebb230174038a8647fe41b17d70e",
            "25ff050b71d1492da5eb101d2bddbc7b",
            "8eb99f44d2f443bd9921d31d421ca2e5",
            "58ffe22bb1fa4e48b755e39a797a6920",
            "a56162291b334e47988384271baff5d7",
            "2a18745bcc44436b9a1ca3c9864d9243",
            "c4f755f8212c438dab2af35bf123becf",
            "2ceeed2193424fa2b5ee8cbca4a10ea3",
            "ff18f37fd319491fac7340e02cd742fd",
            "22fe452a9d4e4bffa013302b63843bdf",
            "b8e268cd7c2f4c24ae8d6a30492ea210"
          ]
        },
        "outputId": "62d485e3-4514-48e9-967f-5fa45ab83b05"
      },
      "outputs": [
        {
          "output_type": "display_data",
          "data": {
            "application/vnd.jupyter.widget-view+json": {
              "model_id": "3465dcd95574480e9c91b3a00679e7a0",
              "version_minor": 0,
              "version_major": 2
            },
            "text/plain": [
              "Downloading:   0%|          | 0.00/295 [00:00<?, ?B/s]"
            ]
          },
          "metadata": {}
        },
        {
          "output_type": "display_data",
          "data": {
            "application/vnd.jupyter.widget-view+json": {
              "model_id": "36431d43ce2d44378ffdba1b4c3ea14f",
              "version_minor": 0,
              "version_major": 2
            },
            "text/plain": [
              "Downloading:   0%|          | 0.00/890 [00:00<?, ?B/s]"
            ]
          },
          "metadata": {}
        },
        {
          "output_type": "display_data",
          "data": {
            "application/vnd.jupyter.widget-view+json": {
              "model_id": "b80a38a225f94b4599475883eb450267",
              "version_minor": 0,
              "version_major": 2
            },
            "text/plain": [
              "Downloading:   0%|          | 0.00/824k [00:00<?, ?B/s]"
            ]
          },
          "metadata": {}
        },
        {
          "output_type": "display_data",
          "data": {
            "application/vnd.jupyter.widget-view+json": {
              "model_id": "03701f2fa4c24971b165003c078d401d",
              "version_minor": 0,
              "version_major": 2
            },
            "text/plain": [
              "Downloading:   0%|          | 0.00/1.03M [00:00<?, ?B/s]"
            ]
          },
          "metadata": {}
        },
        {
          "output_type": "display_data",
          "data": {
            "application/vnd.jupyter.widget-view+json": {
              "model_id": "55d5eb46092e4b929e70dc24fb312856",
              "version_minor": 0,
              "version_major": 2
            },
            "text/plain": [
              "Downloading:   0%|          | 0.00/17.0 [00:00<?, ?B/s]"
            ]
          },
          "metadata": {}
        },
        {
          "output_type": "display_data",
          "data": {
            "application/vnd.jupyter.widget-view+json": {
              "model_id": "5f68ebb230174038a8647fe41b17d70e",
              "version_minor": 0,
              "version_major": 2
            },
            "text/plain": [
              "Downloading:   0%|          | 0.00/150 [00:00<?, ?B/s]"
            ]
          },
          "metadata": {}
        }
      ],
      "source": [
        "# Import the transformer model\n",
        "tokenizer = AutoTokenizer.from_pretrained('finiteautomata/bertweet-base-sentiment-analysis')\n",
        "\n",
        "if TRAIN:\n",
        "    model = AutoModelForSequenceClassification.from_pretrained('finiteautomata/bertweet-base-sentiment-analysis', num_labels=2, ignore_mismatched_sizes=True).to(device)"
      ]
    },
    {
      "cell_type": "code",
      "execution_count": null,
      "metadata": {
        "id": "x5YL3or5AT49"
      },
      "outputs": [],
      "source": [
        "# Encode the texts using a pretrained tokenizer\n",
        "train_features = tokenizer(list(X_train), truncation=True, padding=True, return_tensors='pt')\n",
        "val_features = tokenizer(list(X_val), truncation=True, padding=True, return_tensors='pt')\n",
        "test_features = tokenizer(list(X_test), truncation=True, padding=True, return_tensors='pt')\n",
        "\n",
        "# Change data type of labels to int64\n",
        "train_labels = y_train.astype('int64')\n",
        "val_labels = y_val.astype('int64')\n",
        "test_labels = y_test.astype('int64')\n",
        "\n",
        "# Create the training, validation and test datasets\n",
        "train_dataset = Dataset(train_features, list(train_labels))\n",
        "val_dataset = Dataset(val_features, list(val_labels))\n",
        "test_dataset = Dataset(test_features, None)"
      ]
    },
    {
      "cell_type": "code",
      "execution_count": null,
      "metadata": {
        "id": "1G4S7xUKc9fG",
        "colab": {
          "base_uri": "https://localhost:8080/",
          "height": 1000
        },
        "outputId": "6973850c-3f8e-4130-d502-7061d9a9013d"
      },
      "outputs": [
        {
          "output_type": "stream",
          "name": "stderr",
          "text": [
            "***** Running training *****\n",
            "  Num examples = 28000\n",
            "  Num Epochs = 10\n",
            "  Instantaneous batch size per device = 32\n",
            "  Total train batch size (w. parallel, distributed & accumulation) = 32\n",
            "  Gradient Accumulation steps = 1\n",
            "  Total optimization steps = 8750\n"
          ]
        },
        {
          "output_type": "display_data",
          "data": {
            "text/html": [
              "\n",
              "    <div>\n",
              "      \n",
              "      <progress value='2700' max='8750' style='width:300px; height:20px; vertical-align: middle;'></progress>\n",
              "      [2700/8750 37:43 < 1:24:35, 1.19 it/s, Epoch 3/10]\n",
              "    </div>\n",
              "    <table border=\"1\" class=\"dataframe\">\n",
              "  <thead>\n",
              "    <tr style=\"text-align: left;\">\n",
              "      <th>Step</th>\n",
              "      <th>Training Loss</th>\n",
              "      <th>Validation Loss</th>\n",
              "      <th>Accuracy</th>\n",
              "    </tr>\n",
              "  </thead>\n",
              "  <tbody>\n",
              "    <tr>\n",
              "      <td>100</td>\n",
              "      <td>No log</td>\n",
              "      <td>0.676410</td>\n",
              "      <td>0.586750</td>\n",
              "    </tr>\n",
              "    <tr>\n",
              "      <td>200</td>\n",
              "      <td>No log</td>\n",
              "      <td>0.665507</td>\n",
              "      <td>0.598500</td>\n",
              "    </tr>\n",
              "    <tr>\n",
              "      <td>300</td>\n",
              "      <td>No log</td>\n",
              "      <td>0.658822</td>\n",
              "      <td>0.602750</td>\n",
              "    </tr>\n",
              "    <tr>\n",
              "      <td>400</td>\n",
              "      <td>No log</td>\n",
              "      <td>0.676477</td>\n",
              "      <td>0.598500</td>\n",
              "    </tr>\n",
              "    <tr>\n",
              "      <td>500</td>\n",
              "      <td>0.671600</td>\n",
              "      <td>0.652739</td>\n",
              "      <td>0.603000</td>\n",
              "    </tr>\n",
              "    <tr>\n",
              "      <td>600</td>\n",
              "      <td>0.671600</td>\n",
              "      <td>0.647714</td>\n",
              "      <td>0.620000</td>\n",
              "    </tr>\n",
              "    <tr>\n",
              "      <td>700</td>\n",
              "      <td>0.671600</td>\n",
              "      <td>0.640768</td>\n",
              "      <td>0.625500</td>\n",
              "    </tr>\n",
              "    <tr>\n",
              "      <td>800</td>\n",
              "      <td>0.671600</td>\n",
              "      <td>0.651163</td>\n",
              "      <td>0.605750</td>\n",
              "    </tr>\n",
              "    <tr>\n",
              "      <td>900</td>\n",
              "      <td>0.671600</td>\n",
              "      <td>0.640692</td>\n",
              "      <td>0.618500</td>\n",
              "    </tr>\n",
              "    <tr>\n",
              "      <td>1000</td>\n",
              "      <td>0.641600</td>\n",
              "      <td>0.664567</td>\n",
              "      <td>0.625250</td>\n",
              "    </tr>\n",
              "    <tr>\n",
              "      <td>1100</td>\n",
              "      <td>0.641600</td>\n",
              "      <td>0.647138</td>\n",
              "      <td>0.626750</td>\n",
              "    </tr>\n",
              "    <tr>\n",
              "      <td>1200</td>\n",
              "      <td>0.641600</td>\n",
              "      <td>0.644413</td>\n",
              "      <td>0.621750</td>\n",
              "    </tr>\n",
              "    <tr>\n",
              "      <td>1300</td>\n",
              "      <td>0.641600</td>\n",
              "      <td>0.649232</td>\n",
              "      <td>0.630750</td>\n",
              "    </tr>\n",
              "    <tr>\n",
              "      <td>1400</td>\n",
              "      <td>0.641600</td>\n",
              "      <td>0.653144</td>\n",
              "      <td>0.640000</td>\n",
              "    </tr>\n",
              "    <tr>\n",
              "      <td>1500</td>\n",
              "      <td>0.597600</td>\n",
              "      <td>0.640981</td>\n",
              "      <td>0.634750</td>\n",
              "    </tr>\n",
              "    <tr>\n",
              "      <td>1600</td>\n",
              "      <td>0.597600</td>\n",
              "      <td>0.634504</td>\n",
              "      <td>0.638000</td>\n",
              "    </tr>\n",
              "    <tr>\n",
              "      <td>1700</td>\n",
              "      <td>0.597600</td>\n",
              "      <td>0.636698</td>\n",
              "      <td>0.640250</td>\n",
              "    </tr>\n",
              "    <tr>\n",
              "      <td>1800</td>\n",
              "      <td>0.597600</td>\n",
              "      <td>0.695044</td>\n",
              "      <td>0.634000</td>\n",
              "    </tr>\n",
              "    <tr>\n",
              "      <td>1900</td>\n",
              "      <td>0.597600</td>\n",
              "      <td>0.667269</td>\n",
              "      <td>0.638000</td>\n",
              "    </tr>\n",
              "    <tr>\n",
              "      <td>2000</td>\n",
              "      <td>0.542700</td>\n",
              "      <td>0.698640</td>\n",
              "      <td>0.636750</td>\n",
              "    </tr>\n",
              "    <tr>\n",
              "      <td>2100</td>\n",
              "      <td>0.542700</td>\n",
              "      <td>0.686298</td>\n",
              "      <td>0.637500</td>\n",
              "    </tr>\n",
              "    <tr>\n",
              "      <td>2200</td>\n",
              "      <td>0.542700</td>\n",
              "      <td>0.678962</td>\n",
              "      <td>0.631500</td>\n",
              "    </tr>\n",
              "    <tr>\n",
              "      <td>2300</td>\n",
              "      <td>0.542700</td>\n",
              "      <td>0.674747</td>\n",
              "      <td>0.630500</td>\n",
              "    </tr>\n",
              "    <tr>\n",
              "      <td>2400</td>\n",
              "      <td>0.542700</td>\n",
              "      <td>0.688031</td>\n",
              "      <td>0.637500</td>\n",
              "    </tr>\n",
              "    <tr>\n",
              "      <td>2500</td>\n",
              "      <td>0.499000</td>\n",
              "      <td>0.682652</td>\n",
              "      <td>0.633250</td>\n",
              "    </tr>\n",
              "    <tr>\n",
              "      <td>2600</td>\n",
              "      <td>0.499000</td>\n",
              "      <td>0.690799</td>\n",
              "      <td>0.635500</td>\n",
              "    </tr>\n",
              "    <tr>\n",
              "      <td>2700</td>\n",
              "      <td>0.499000</td>\n",
              "      <td>0.776665</td>\n",
              "      <td>0.631750</td>\n",
              "    </tr>\n",
              "  </tbody>\n",
              "</table><p>"
            ],
            "text/plain": [
              "<IPython.core.display.HTML object>"
            ]
          },
          "metadata": {}
        },
        {
          "output_type": "stream",
          "name": "stderr",
          "text": [
            "***** Running Evaluation *****\n",
            "  Num examples = 4000\n",
            "  Batch size = 8\n",
            "***** Running Evaluation *****\n",
            "  Num examples = 4000\n",
            "  Batch size = 8\n",
            "***** Running Evaluation *****\n",
            "  Num examples = 4000\n",
            "  Batch size = 8\n",
            "***** Running Evaluation *****\n",
            "  Num examples = 4000\n",
            "  Batch size = 8\n",
            "***** Running Evaluation *****\n",
            "  Num examples = 4000\n",
            "  Batch size = 8\n",
            "Saving model checkpoint to output/checkpoint-500\n",
            "Configuration saved in output/checkpoint-500/config.json\n",
            "Model weights saved in output/checkpoint-500/pytorch_model.bin\n",
            "***** Running Evaluation *****\n",
            "  Num examples = 4000\n",
            "  Batch size = 8\n",
            "***** Running Evaluation *****\n",
            "  Num examples = 4000\n",
            "  Batch size = 8\n",
            "***** Running Evaluation *****\n",
            "  Num examples = 4000\n",
            "  Batch size = 8\n",
            "***** Running Evaluation *****\n",
            "  Num examples = 4000\n",
            "  Batch size = 8\n",
            "***** Running Evaluation *****\n",
            "  Num examples = 4000\n",
            "  Batch size = 8\n",
            "Saving model checkpoint to output/checkpoint-1000\n",
            "Configuration saved in output/checkpoint-1000/config.json\n",
            "Model weights saved in output/checkpoint-1000/pytorch_model.bin\n",
            "Deleting older checkpoint [output/checkpoint-500] due to args.save_total_limit\n",
            "***** Running Evaluation *****\n",
            "  Num examples = 4000\n",
            "  Batch size = 8\n",
            "***** Running Evaluation *****\n",
            "  Num examples = 4000\n",
            "  Batch size = 8\n",
            "***** Running Evaluation *****\n",
            "  Num examples = 4000\n",
            "  Batch size = 8\n",
            "***** Running Evaluation *****\n",
            "  Num examples = 4000\n",
            "  Batch size = 8\n",
            "***** Running Evaluation *****\n",
            "  Num examples = 4000\n",
            "  Batch size = 8\n",
            "Saving model checkpoint to output/checkpoint-1500\n",
            "Configuration saved in output/checkpoint-1500/config.json\n",
            "Model weights saved in output/checkpoint-1500/pytorch_model.bin\n",
            "Deleting older checkpoint [output/checkpoint-1000] due to args.save_total_limit\n",
            "***** Running Evaluation *****\n",
            "  Num examples = 4000\n",
            "  Batch size = 8\n",
            "***** Running Evaluation *****\n",
            "  Num examples = 4000\n",
            "  Batch size = 8\n",
            "***** Running Evaluation *****\n",
            "  Num examples = 4000\n",
            "  Batch size = 8\n",
            "***** Running Evaluation *****\n",
            "  Num examples = 4000\n",
            "  Batch size = 8\n",
            "***** Running Evaluation *****\n",
            "  Num examples = 4000\n",
            "  Batch size = 8\n",
            "Saving model checkpoint to output/checkpoint-2000\n",
            "Configuration saved in output/checkpoint-2000/config.json\n",
            "Model weights saved in output/checkpoint-2000/pytorch_model.bin\n",
            "Deleting older checkpoint [output/checkpoint-1500] due to args.save_total_limit\n",
            "***** Running Evaluation *****\n",
            "  Num examples = 4000\n",
            "  Batch size = 8\n",
            "***** Running Evaluation *****\n",
            "  Num examples = 4000\n",
            "  Batch size = 8\n",
            "***** Running Evaluation *****\n",
            "  Num examples = 4000\n",
            "  Batch size = 8\n",
            "***** Running Evaluation *****\n",
            "  Num examples = 4000\n",
            "  Batch size = 8\n",
            "***** Running Evaluation *****\n",
            "  Num examples = 4000\n",
            "  Batch size = 8\n",
            "Saving model checkpoint to output/checkpoint-2500\n",
            "Configuration saved in output/checkpoint-2500/config.json\n",
            "Model weights saved in output/checkpoint-2500/pytorch_model.bin\n",
            "***** Running Evaluation *****\n",
            "  Num examples = 4000\n",
            "  Batch size = 8\n",
            "***** Running Evaluation *****\n",
            "  Num examples = 4000\n",
            "  Batch size = 8\n",
            "\n",
            "\n",
            "Training completed. Do not forget to share your model on huggingface.co/models =)\n",
            "\n",
            "\n",
            "Loading best model from output/checkpoint-2000 (score: 0.63675).\n"
          ]
        },
        {
          "output_type": "execute_result",
          "data": {
            "text/plain": [
              "TrainOutput(global_step=2700, training_loss=0.5804003849735967, metrics={'train_runtime': 2264.1663, 'train_samples_per_second': 123.666, 'train_steps_per_second': 3.865, 'total_flos': 5461198842816000.0, 'train_loss': 0.5804003849735967, 'epoch': 3.09})"
            ]
          },
          "metadata": {},
          "execution_count": 17
        }
      ],
      "source": [
        "# Define the trainer\n",
        "if TRAIN:\n",
        "    args = TrainingArguments(\n",
        "        output_dir='output',\n",
        "        evaluation_strategy ='steps',\n",
        "        eval_steps=100,\n",
        "        save_total_limit=1,\n",
        "        learning_rate=2e-5,\n",
        "        per_device_train_batch_size=32,\n",
        "        num_train_epochs=10,\n",
        "        metric_for_best_model='accuracy',\n",
        "        load_best_model_at_end=True)\n",
        "\n",
        "    best_transformer_model = Trainer(\n",
        "        model=model,\n",
        "        args=args,\n",
        "        train_dataset=train_dataset,\n",
        "        eval_dataset=val_dataset,   \n",
        "        compute_metrics=compute_metrics,\n",
        "        callbacks=[EarlyStoppingCallback(early_stopping_patience=3)])\n",
        "  \n",
        "    # Train the pre-trained model\n",
        "    best_transformer_model.train()"
      ]
    },
    {
      "cell_type": "code",
      "execution_count": null,
      "metadata": {
        "id": "RjJREs0S_kYF",
        "colab": {
          "base_uri": "https://localhost:8080/",
          "height": 36
        },
        "outputId": "d4f73e6e-ad3a-4bc5-c435-c371c76dd5e8"
      },
      "outputs": [
        {
          "output_type": "execute_result",
          "data": {
            "application/vnd.google.colaboratory.intrinsic+json": {
              "type": "string"
            },
            "text/plain": [
              "'/content/best_transformer_model.zip'"
            ]
          },
          "metadata": {},
          "execution_count": 18
        }
      ],
      "source": [
        "# Save the transfomer weights folder as a zip file\n",
        "if TRAIN:\n",
        "    shutil.make_archive('best_transformer_model', 'zip', '/content/output')"
      ]
    },
    {
      "cell_type": "code",
      "execution_count": null,
      "metadata": {
        "id": "XhJHNLfbiHet",
        "colab": {
          "base_uri": "https://localhost:8080/"
        },
        "outputId": "4596d4c1-2d62-4e62-9c09-c6125cdcb6e7"
      },
      "outputs": [
        {
          "output_type": "stream",
          "name": "stdout",
          "text": [
            "Downloading...\n",
            "From: https://drive.google.com/uc?id=1e8zqNcnfTao77Dt2NgPT4JNsb6GVwrun\n",
            "To: /content/best_transformer_model.zip\n",
            "100% 1.26G/1.26G [00:17<00:00, 72.1MB/s]\n"
          ]
        }
      ],
      "source": [
        "# Download and load the best transformer model\n",
        "if TRAIN == False:\n",
        "    !gdown --id 1e8zqNcnfTao77Dt2NgPT4JNsb6GVwrun\n",
        "    !unzip -q -o best_transformer_model.zip -d /content\n",
        "    best_transformer_model = Trainer(AutoModelForSequenceClassification.from_pretrained('/content/best_transformer_model').to(device))"
      ]
    },
    {
      "cell_type": "code",
      "execution_count": null,
      "metadata": {
        "id": "P2pyf0a3iLIE",
        "colab": {
          "base_uri": "https://localhost:8080/",
          "height": 519
        },
        "outputId": "79f90bc5-659b-4794-f162-071ab80175b8"
      },
      "outputs": [
        {
          "output_type": "stream",
          "name": "stderr",
          "text": [
            "***** Running Prediction *****\n",
            "  Num examples = 8000\n",
            "  Batch size = 8\n"
          ]
        },
        {
          "output_type": "display_data",
          "data": {
            "text/html": [
              "\n",
              "    <div>\n",
              "      \n",
              "      <progress value='1000' max='1000' style='width:300px; height:20px; vertical-align: middle;'></progress>\n",
              "      [1000/1000 00:26]\n",
              "    </div>\n",
              "    "
            ],
            "text/plain": [
              "<IPython.core.display.HTML object>"
            ]
          },
          "metadata": {}
        },
        {
          "output_type": "stream",
          "name": "stdout",
          "text": [
            "              precision    recall  f1-score   support\n",
            "\n",
            "           0       0.85      0.67      0.75       100\n",
            "           1       0.73      0.88      0.80       100\n",
            "\n",
            "    accuracy                           0.78       200\n",
            "   macro avg       0.79      0.78      0.77       200\n",
            "weighted avg       0.79      0.78      0.77       200\n",
            "\n"
          ]
        },
        {
          "output_type": "display_data",
          "data": {
            "image/png": "[encoded data removed]",
            "text/plain": [
              "<Figure size 432x288 with 2 Axes>"
            ]
          },
          "metadata": {
            "needs_background": "light"
          }
        }
      ],
      "source": [
        "# Evaluate the best transformer model on the test set\n",
        "true, pred = majority_voting(best_transformer_model, transformer=True)\n",
        "print(classification_report(true, pred))\n",
        "plot_cm(true, pred)"
      ]
    }
  ],
  "metadata": {
    "accelerator": "GPU",
    "colab": {
      "collapsed_sections": [],
      "name": "Copy of main.ipynb",
      "provenance": []
    },
    "kernelspec": {
      "display_name": "Python 3",
      "name": "python3"
    },
    "language_info": {
      "name": "python"
    },
    "widgets": {
      "application/vnd.jupyter.widget-state+json": {
        "3465dcd95574480e9c91b3a00679e7a0": {
          "model_module": "@jupyter-widgets/controls",
          "model_name": "HBoxModel",
          "model_module_version": "1.5.0",
          "state": {
            "_view_name": "HBoxView",
            "_dom_classes": [],
            "_model_name": "HBoxModel",
            "_view_module": "@jupyter-widgets/controls",
            "_model_module_version": "1.5.0",
            "_view_count": null,
            "_view_module_version": "1.5.0",
            "box_style": "",
            "layout": "IPY_MODEL_86e79ee416ae4eac968b393f60f23f1e",
            "_model_module": "@jupyter-widgets/controls",
            "children": [
              "IPY_MODEL_3970ead179404b9db7157ff223c8da2f",
              "IPY_MODEL_ca91c79f225a4cbabe3dc1687345ebe1",
              "IPY_MODEL_f082e88b41ce42149d501eecf9d8e506"
            ]
          }
        },
        "86e79ee416ae4eac968b393f60f23f1e": {
          "model_module": "@jupyter-widgets/base",
          "model_name": "LayoutModel",
          "model_module_version": "1.2.0",
          "state": {
            "_view_name": "LayoutView",
            "grid_template_rows": null,
            "right": null,
            "justify_content": null,
            "_view_module": "@jupyter-widgets/base",
            "overflow": null,
            "_model_module_version": "1.2.0",
            "_view_count": null,
            "flex_flow": null,
            "width": null,
            "min_width": null,
            "border": null,
            "align_items": null,
            "bottom": null,
            "_model_module": "@jupyter-widgets/base",
            "top": null,
            "grid_column": null,
            "overflow_y": null,
            "overflow_x": null,
            "grid_auto_flow": null,
            "grid_area": null,
            "grid_template_columns": null,
            "flex": null,
            "_model_name": "LayoutModel",
            "justify_items": null,
            "grid_row": null,
            "max_height": null,
            "align_content": null,
            "visibility": null,
            "align_self": null,
            "height": null,
            "min_height": null,
            "padding": null,
            "grid_auto_rows": null,
            "grid_gap": null,
            "max_width": null,
            "order": null,
            "_view_module_version": "1.2.0",
            "grid_template_areas": null,
            "object_position": null,
            "object_fit": null,
            "grid_auto_columns": null,
            "margin": null,
            "display": null,
            "left": null
          }
        },
        "3970ead179404b9db7157ff223c8da2f": {
          "model_module": "@jupyter-widgets/controls",
          "model_name": "HTMLModel",
          "model_module_version": "1.5.0",
          "state": {
            "_view_name": "HTMLView",
            "style": "IPY_MODEL_84c94c3c525d4b5db512f63bcae72025",
            "_dom_classes": [],
            "description": "",
            "_model_name": "HTMLModel",
            "placeholder": "​",
            "_view_module": "@jupyter-widgets/controls",
            "_model_module_version": "1.5.0",
            "value": "Downloading: 100%",
            "_view_count": null,
            "_view_module_version": "1.5.0",
            "description_tooltip": null,
            "_model_module": "@jupyter-widgets/controls",
            "layout": "IPY_MODEL_31e22b2b74f44c82acd34d5011fc738f"
          }
        },
        "ca91c79f225a4cbabe3dc1687345ebe1": {
          "model_module": "@jupyter-widgets/controls",
          "model_name": "FloatProgressModel",
          "model_module_version": "1.5.0",
          "state": {
            "_view_name": "ProgressView",
            "style": "IPY_MODEL_c5d60a906c4e421c94b3a04b69bc3693",
            "_dom_classes": [],
            "description": "",
            "_model_name": "FloatProgressModel",
            "bar_style": "success",
            "max": 295,
            "_view_module": "@jupyter-widgets/controls",
            "_model_module_version": "1.5.0",
            "value": 295,
            "_view_count": null,
            "_view_module_version": "1.5.0",
            "orientation": "horizontal",
            "min": 0,
            "description_tooltip": null,
            "_model_module": "@jupyter-widgets/controls",
            "layout": "IPY_MODEL_8905eeb1bbfc4f95a1e3da28c124186d"
          }
        },
        "f082e88b41ce42149d501eecf9d8e506": {
          "model_module": "@jupyter-widgets/controls",
          "model_name": "HTMLModel",
          "model_module_version": "1.5.0",
          "state": {
            "_view_name": "HTMLView",
            "style": "IPY_MODEL_20a0329018cb4e1cb57bc769df34df0e",
            "_dom_classes": [],
            "description": "",
            "_model_name": "HTMLModel",
            "placeholder": "​",
            "_view_module": "@jupyter-widgets/controls",
            "_model_module_version": "1.5.0",
            "value": " 295/295 [00:00&lt;00:00, 7.72kB/s]",
            "_view_count": null,
            "_view_module_version": "1.5.0",
            "description_tooltip": null,
            "_model_module": "@jupyter-widgets/controls",
            "layout": "IPY_MODEL_c0767ece5596438ea84a11d4b755ff05"
          }
        },
        "84c94c3c525d4b5db512f63bcae72025": {
          "model_module": "@jupyter-widgets/controls",
          "model_name": "DescriptionStyleModel",
          "model_module_version": "1.5.0",
          "state": {
            "_view_name": "StyleView",
            "_model_name": "DescriptionStyleModel",
            "description_width": "",
            "_view_module": "@jupyter-widgets/base",
            "_model_module_version": "1.5.0",
            "_view_count": null,
            "_view_module_version": "1.2.0",
            "_model_module": "@jupyter-widgets/controls"
          }
        },
        "31e22b2b74f44c82acd34d5011fc738f": {
          "model_module": "@jupyter-widgets/base",
          "model_name": "LayoutModel",
          "model_module_version": "1.2.0",
          "state": {
            "_view_name": "LayoutView",
            "grid_template_rows": null,
            "right": null,
            "justify_content": null,
            "_view_module": "@jupyter-widgets/base",
            "overflow": null,
            "_model_module_version": "1.2.0",
            "_view_count": null,
            "flex_flow": null,
            "width": null,
            "min_width": null,
            "border": null,
            "align_items": null,
            "bottom": null,
            "_model_module": "@jupyter-widgets/base",
            "top": null,
            "grid_column": null,
            "overflow_y": null,
            "overflow_x": null,
            "grid_auto_flow": null,
            "grid_area": null,
            "grid_template_columns": null,
            "flex": null,
            "_model_name": "LayoutModel",
            "justify_items": null,
            "grid_row": null,
            "max_height": null,
            "align_content": null,
            "visibility": null,
            "align_self": null,
            "height": null,
            "min_height": null,
            "padding": null,
            "grid_auto_rows": null,
            "grid_gap": null,
            "max_width": null,
            "order": null,
            "_view_module_version": "1.2.0",
            "grid_template_areas": null,
            "object_position": null,
            "object_fit": null,
            "grid_auto_columns": null,
            "margin": null,
            "display": null,
            "left": null
          }
        },
        "c5d60a906c4e421c94b3a04b69bc3693": {
          "model_module": "@jupyter-widgets/controls",
          "model_name": "ProgressStyleModel",
          "model_module_version": "1.5.0",
          "state": {
            "_view_name": "StyleView",
            "_model_name": "ProgressStyleModel",
            "description_width": "",
            "_view_module": "@jupyter-widgets/base",
            "_model_module_version": "1.5.0",
            "_view_count": null,
            "_view_module_version": "1.2.0",
            "bar_color": null,
            "_model_module": "@jupyter-widgets/controls"
          }
        },
        "8905eeb1bbfc4f95a1e3da28c124186d": {
          "model_module": "@jupyter-widgets/base",
          "model_name": "LayoutModel",
          "model_module_version": "1.2.0",
          "state": {
            "_view_name": "LayoutView",
            "grid_template_rows": null,
            "right": null,
            "justify_content": null,
            "_view_module": "@jupyter-widgets/base",
            "overflow": null,
            "_model_module_version": "1.2.0",
            "_view_count": null,
            "flex_flow": null,
            "width": null,
            "min_width": null,
            "border": null,
            "align_items": null,
            "bottom": null,
            "_model_module": "@jupyter-widgets/base",
            "top": null,
            "grid_column": null,
            "overflow_y": null,
            "overflow_x": null,
            "grid_auto_flow": null,
            "grid_area": null,
            "grid_template_columns": null,
            "flex": null,
            "_model_name": "LayoutModel",
            "justify_items": null,
            "grid_row": null,
            "max_height": null,
            "align_content": null,
            "visibility": null,
            "align_self": null,
            "height": null,
            "min_height": null,
            "padding": null,
            "grid_auto_rows": null,
            "grid_gap": null,
            "max_width": null,
            "order": null,
            "_view_module_version": "1.2.0",
            "grid_template_areas": null,
            "object_position": null,
            "object_fit": null,
            "grid_auto_columns": null,
            "margin": null,
            "display": null,
            "left": null
          }
        },
        "20a0329018cb4e1cb57bc769df34df0e": {
          "model_module": "@jupyter-widgets/controls",
          "model_name": "DescriptionStyleModel",
          "model_module_version": "1.5.0",
          "state": {
            "_view_name": "StyleView",
            "_model_name": "DescriptionStyleModel",
            "description_width": "",
            "_view_module": "@jupyter-widgets/base",
            "_model_module_version": "1.5.0",
            "_view_count": null,
            "_view_module_version": "1.2.0",
            "_model_module": "@jupyter-widgets/controls"
          }
        },
        "c0767ece5596438ea84a11d4b755ff05": {
          "model_module": "@jupyter-widgets/base",
          "model_name": "LayoutModel",
          "model_module_version": "1.2.0",
          "state": {
            "_view_name": "LayoutView",
            "grid_template_rows": null,
            "right": null,
            "justify_content": null,
            "_view_module": "@jupyter-widgets/base",
            "overflow": null,
            "_model_module_version": "1.2.0",
            "_view_count": null,
            "flex_flow": null,
            "width": null,
            "min_width": null,
            "border": null,
            "align_items": null,
            "bottom": null,
            "_model_module": "@jupyter-widgets/base",
            "top": null,
            "grid_column": null,
            "overflow_y": null,
            "overflow_x": null,
            "grid_auto_flow": null,
            "grid_area": null,
            "grid_template_columns": null,
            "flex": null,
            "_model_name": "LayoutModel",
            "justify_items": null,
            "grid_row": null,
            "max_height": null,
            "align_content": null,
            "visibility": null,
            "align_self": null,
            "height": null,
            "min_height": null,
            "padding": null,
            "grid_auto_rows": null,
            "grid_gap": null,
            "max_width": null,
            "order": null,
            "_view_module_version": "1.2.0",
            "grid_template_areas": null,
            "object_position": null,
            "object_fit": null,
            "grid_auto_columns": null,
            "margin": null,
            "display": null,
            "left": null
          }
        },
        "36431d43ce2d44378ffdba1b4c3ea14f": {
          "model_module": "@jupyter-widgets/controls",
          "model_name": "HBoxModel",
          "model_module_version": "1.5.0",
          "state": {
            "_view_name": "HBoxView",
            "_dom_classes": [],
            "_model_name": "HBoxModel",
            "_view_module": "@jupyter-widgets/controls",
            "_model_module_version": "1.5.0",
            "_view_count": null,
            "_view_module_version": "1.5.0",
            "box_style": "",
            "layout": "IPY_MODEL_f694218488584d3f816aa091d7777142",
            "_model_module": "@jupyter-widgets/controls",
            "children": [
              "IPY_MODEL_5dd4332a7c0b45f6a66c0bf7d301ab89",
              "IPY_MODEL_fa7d0090d4cd47af9eb4a028a55f4569",
              "IPY_MODEL_70eebe73066e41938488ac93eb914905"
            ]
          }
        },
        "f694218488584d3f816aa091d7777142": {
          "model_module": "@jupyter-widgets/base",
          "model_name": "LayoutModel",
          "model_module_version": "1.2.0",
          "state": {
            "_view_name": "LayoutView",
            "grid_template_rows": null,
            "right": null,
            "justify_content": null,
            "_view_module": "@jupyter-widgets/base",
            "overflow": null,
            "_model_module_version": "1.2.0",
            "_view_count": null,
            "flex_flow": null,
            "width": null,
            "min_width": null,
            "border": null,
            "align_items": null,
            "bottom": null,
            "_model_module": "@jupyter-widgets/base",
            "top": null,
            "grid_column": null,
            "overflow_y": null,
            "overflow_x": null,
            "grid_auto_flow": null,
            "grid_area": null,
            "grid_template_columns": null,
            "flex": null,
            "_model_name": "LayoutModel",
            "justify_items": null,
            "grid_row": null,
            "max_height": null,
            "align_content": null,
            "visibility": null,
            "align_self": null,
            "height": null,
            "min_height": null,
            "padding": null,
            "grid_auto_rows": null,
            "grid_gap": null,
            "max_width": null,
            "order": null,
            "_view_module_version": "1.2.0",
            "grid_template_areas": null,
            "object_position": null,
            "object_fit": null,
            "grid_auto_columns": null,
            "margin": null,
            "display": null,
            "left": null
          }
        },
        "5dd4332a7c0b45f6a66c0bf7d301ab89": {
          "model_module": "@jupyter-widgets/controls",
          "model_name": "HTMLModel",
          "model_module_version": "1.5.0",
          "state": {
            "_view_name": "HTMLView",
            "style": "IPY_MODEL_2baffcf1ec7f42138fa0b119bcf26227",
            "_dom_classes": [],
            "description": "",
            "_model_name": "HTMLModel",
            "placeholder": "​",
            "_view_module": "@jupyter-widgets/controls",
            "_model_module_version": "1.5.0",
            "value": "Downloading: 100%",
            "_view_count": null,
            "_view_module_version": "1.5.0",
            "description_tooltip": null,
            "_model_module": "@jupyter-widgets/controls",
            "layout": "IPY_MODEL_397bf06dd6d74a5bb15547dcd8c0a856"
          }
        },
        "fa7d0090d4cd47af9eb4a028a55f4569": {
          "model_module": "@jupyter-widgets/controls",
          "model_name": "FloatProgressModel",
          "model_module_version": "1.5.0",
          "state": {
            "_view_name": "ProgressView",
            "style": "IPY_MODEL_4c6f8a84c25a44f6afa246dc0b8a91cf",
            "_dom_classes": [],
            "description": "",
            "_model_name": "FloatProgressModel",
            "bar_style": "success",
            "max": 890,
            "_view_module": "@jupyter-widgets/controls",
            "_model_module_version": "1.5.0",
            "value": 890,
            "_view_count": null,
            "_view_module_version": "1.5.0",
            "orientation": "horizontal",
            "min": 0,
            "description_tooltip": null,
            "_model_module": "@jupyter-widgets/controls",
            "layout": "IPY_MODEL_3477a501a2be4886971d8bf9f59061c4"
          }
        },
        "70eebe73066e41938488ac93eb914905": {
          "model_module": "@jupyter-widgets/controls",
          "model_name": "HTMLModel",
          "model_module_version": "1.5.0",
          "state": {
            "_view_name": "HTMLView",
            "style": "IPY_MODEL_d157df2258664f6492fe4cbc77fae42a",
            "_dom_classes": [],
            "description": "",
            "_model_name": "HTMLModel",
            "placeholder": "​",
            "_view_module": "@jupyter-widgets/controls",
            "_model_module_version": "1.5.0",
            "value": " 890/890 [00:00&lt;00:00, 26.2kB/s]",
            "_view_count": null,
            "_view_module_version": "1.5.0",
            "description_tooltip": null,
            "_model_module": "@jupyter-widgets/controls",
            "layout": "IPY_MODEL_c06aa3af4ad84e54af660e7aa36ecc39"
          }
        },
        "2baffcf1ec7f42138fa0b119bcf26227": {
          "model_module": "@jupyter-widgets/controls",
          "model_name": "DescriptionStyleModel",
          "model_module_version": "1.5.0",
          "state": {
            "_view_name": "StyleView",
            "_model_name": "DescriptionStyleModel",
            "description_width": "",
            "_view_module": "@jupyter-widgets/base",
            "_model_module_version": "1.5.0",
            "_view_count": null,
            "_view_module_version": "1.2.0",
            "_model_module": "@jupyter-widgets/controls"
          }
        },
        "397bf06dd6d74a5bb15547dcd8c0a856": {
          "model_module": "@jupyter-widgets/base",
          "model_name": "LayoutModel",
          "model_module_version": "1.2.0",
          "state": {
            "_view_name": "LayoutView",
            "grid_template_rows": null,
            "right": null,
            "justify_content": null,
            "_view_module": "@jupyter-widgets/base",
            "overflow": null,
            "_model_module_version": "1.2.0",
            "_view_count": null,
            "flex_flow": null,
            "width": null,
            "min_width": null,
            "border": null,
            "align_items": null,
            "bottom": null,
            "_model_module": "@jupyter-widgets/base",
            "top": null,
            "grid_column": null,
            "overflow_y": null,
            "overflow_x": null,
            "grid_auto_flow": null,
            "grid_area": null,
            "grid_template_columns": null,
            "flex": null,
            "_model_name": "LayoutModel",
            "justify_items": null,
            "grid_row": null,
            "max_height": null,
            "align_content": null,
            "visibility": null,
            "align_self": null,
            "height": null,
            "min_height": null,
            "padding": null,
            "grid_auto_rows": null,
            "grid_gap": null,
            "max_width": null,
            "order": null,
            "_view_module_version": "1.2.0",
            "grid_template_areas": null,
            "object_position": null,
            "object_fit": null,
            "grid_auto_columns": null,
            "margin": null,
            "display": null,
            "left": null
          }
        },
        "4c6f8a84c25a44f6afa246dc0b8a91cf": {
          "model_module": "@jupyter-widgets/controls",
          "model_name": "ProgressStyleModel",
          "model_module_version": "1.5.0",
          "state": {
            "_view_name": "StyleView",
            "_model_name": "ProgressStyleModel",
            "description_width": "",
            "_view_module": "@jupyter-widgets/base",
            "_model_module_version": "1.5.0",
            "_view_count": null,
            "_view_module_version": "1.2.0",
            "bar_color": null,
            "_model_module": "@jupyter-widgets/controls"
          }
        },
        "3477a501a2be4886971d8bf9f59061c4": {
          "model_module": "@jupyter-widgets/base",
          "model_name": "LayoutModel",
          "model_module_version": "1.2.0",
          "state": {
            "_view_name": "LayoutView",
            "grid_template_rows": null,
            "right": null,
            "justify_content": null,
            "_view_module": "@jupyter-widgets/base",
            "overflow": null,
            "_model_module_version": "1.2.0",
            "_view_count": null,
            "flex_flow": null,
            "width": null,
            "min_width": null,
            "border": null,
            "align_items": null,
            "bottom": null,
            "_model_module": "@jupyter-widgets/base",
            "top": null,
            "grid_column": null,
            "overflow_y": null,
            "overflow_x": null,
            "grid_auto_flow": null,
            "grid_area": null,
            "grid_template_columns": null,
            "flex": null,
            "_model_name": "LayoutModel",
            "justify_items": null,
            "grid_row": null,
            "max_height": null,
            "align_content": null,
            "visibility": null,
            "align_self": null,
            "height": null,
            "min_height": null,
            "padding": null,
            "grid_auto_rows": null,
            "grid_gap": null,
            "max_width": null,
            "order": null,
            "_view_module_version": "1.2.0",
            "grid_template_areas": null,
            "object_position": null,
            "object_fit": null,
            "grid_auto_columns": null,
            "margin": null,
            "display": null,
            "left": null
          }
        },
        "d157df2258664f6492fe4cbc77fae42a": {
          "model_module": "@jupyter-widgets/controls",
          "model_name": "DescriptionStyleModel",
          "model_module_version": "1.5.0",
          "state": {
            "_view_name": "StyleView",
            "_model_name": "DescriptionStyleModel",
            "description_width": "",
            "_view_module": "@jupyter-widgets/base",
            "_model_module_version": "1.5.0",
            "_view_count": null,
            "_view_module_version": "1.2.0",
            "_model_module": "@jupyter-widgets/controls"
          }
        },
        "c06aa3af4ad84e54af660e7aa36ecc39": {
          "model_module": "@jupyter-widgets/base",
          "model_name": "LayoutModel",
          "model_module_version": "1.2.0",
          "state": {
            "_view_name": "LayoutView",
            "grid_template_rows": null,
            "right": null,
            "justify_content": null,
            "_view_module": "@jupyter-widgets/base",
            "overflow": null,
            "_model_module_version": "1.2.0",
            "_view_count": null,
            "flex_flow": null,
            "width": null,
            "min_width": null,
            "border": null,
            "align_items": null,
            "bottom": null,
            "_model_module": "@jupyter-widgets/base",
            "top": null,
            "grid_column": null,
            "overflow_y": null,
            "overflow_x": null,
            "grid_auto_flow": null,
            "grid_area": null,
            "grid_template_columns": null,
            "flex": null,
            "_model_name": "LayoutModel",
            "justify_items": null,
            "grid_row": null,
            "max_height": null,
            "align_content": null,
            "visibility": null,
            "align_self": null,
            "height": null,
            "min_height": null,
            "padding": null,
            "grid_auto_rows": null,
            "grid_gap": null,
            "max_width": null,
            "order": null,
            "_view_module_version": "1.2.0",
            "grid_template_areas": null,
            "object_position": null,
            "object_fit": null,
            "grid_auto_columns": null,
            "margin": null,
            "display": null,
            "left": null
          }
        },
        "b80a38a225f94b4599475883eb450267": {
          "model_module": "@jupyter-widgets/controls",
          "model_name": "HBoxModel",
          "model_module_version": "1.5.0",
          "state": {
            "_view_name": "HBoxView",
            "_dom_classes": [],
            "_model_name": "HBoxModel",
            "_view_module": "@jupyter-widgets/controls",
            "_model_module_version": "1.5.0",
            "_view_count": null,
            "_view_module_version": "1.5.0",
            "box_style": "",
            "layout": "IPY_MODEL_ee8352deb42e430ab907bb65eec89546",
            "_model_module": "@jupyter-widgets/controls",
            "children": [
              "IPY_MODEL_c939ef030e0e461fa2d5962c96428948",
              "IPY_MODEL_2848e7bb74ed49d89a87dcfe246856bd",
              "IPY_MODEL_35188f4ae1294e63a7cd62c569dc8094"
            ]
          }
        },
        "ee8352deb42e430ab907bb65eec89546": {
          "model_module": "@jupyter-widgets/base",
          "model_name": "LayoutModel",
          "model_module_version": "1.2.0",
          "state": {
            "_view_name": "LayoutView",
            "grid_template_rows": null,
            "right": null,
            "justify_content": null,
            "_view_module": "@jupyter-widgets/base",
            "overflow": null,
            "_model_module_version": "1.2.0",
            "_view_count": null,
            "flex_flow": null,
            "width": null,
            "min_width": null,
            "border": null,
            "align_items": null,
            "bottom": null,
            "_model_module": "@jupyter-widgets/base",
            "top": null,
            "grid_column": null,
            "overflow_y": null,
            "overflow_x": null,
            "grid_auto_flow": null,
            "grid_area": null,
            "grid_template_columns": null,
            "flex": null,
            "_model_name": "LayoutModel",
            "justify_items": null,
            "grid_row": null,
            "max_height": null,
            "align_content": null,
            "visibility": null,
            "align_self": null,
            "height": null,
            "min_height": null,
            "padding": null,
            "grid_auto_rows": null,
            "grid_gap": null,
            "max_width": null,
            "order": null,
            "_view_module_version": "1.2.0",
            "grid_template_areas": null,
            "object_position": null,
            "object_fit": null,
            "grid_auto_columns": null,
            "margin": null,
            "display": null,
            "left": null
          }
        },
        "c939ef030e0e461fa2d5962c96428948": {
          "model_module": "@jupyter-widgets/controls",
          "model_name": "HTMLModel",
          "model_module_version": "1.5.0",
          "state": {
            "_view_name": "HTMLView",
            "style": "IPY_MODEL_945a810a00ff4cb7beffcec30bdbdd7e",
            "_dom_classes": [],
            "description": "",
            "_model_name": "HTMLModel",
            "placeholder": "​",
            "_view_module": "@jupyter-widgets/controls",
            "_model_module_version": "1.5.0",
            "value": "Downloading: 100%",
            "_view_count": null,
            "_view_module_version": "1.5.0",
            "description_tooltip": null,
            "_model_module": "@jupyter-widgets/controls",
            "layout": "IPY_MODEL_af7fc3ab5bd64a9f834f4548028a9540"
          }
        },
        "2848e7bb74ed49d89a87dcfe246856bd": {
          "model_module": "@jupyter-widgets/controls",
          "model_name": "FloatProgressModel",
          "model_module_version": "1.5.0",
          "state": {
            "_view_name": "ProgressView",
            "style": "IPY_MODEL_ecaa057e56314c7fb0e820f7ffeb833b",
            "_dom_classes": [],
            "description": "",
            "_model_name": "FloatProgressModel",
            "bar_style": "success",
            "max": 843438,
            "_view_module": "@jupyter-widgets/controls",
            "_model_module_version": "1.5.0",
            "value": 843438,
            "_view_count": null,
            "_view_module_version": "1.5.0",
            "orientation": "horizontal",
            "min": 0,
            "description_tooltip": null,
            "_model_module": "@jupyter-widgets/controls",
            "layout": "IPY_MODEL_184cc6b69fab4427a0921ccd5cfe3416"
          }
        },
        "35188f4ae1294e63a7cd62c569dc8094": {
          "model_module": "@jupyter-widgets/controls",
          "model_name": "HTMLModel",
          "model_module_version": "1.5.0",
          "state": {
            "_view_name": "HTMLView",
            "style": "IPY_MODEL_169a1418228f454e80c79964b6ba573e",
            "_dom_classes": [],
            "description": "",
            "_model_name": "HTMLModel",
            "placeholder": "​",
            "_view_module": "@jupyter-widgets/controls",
            "_model_module_version": "1.5.0",
            "value": " 824k/824k [00:00&lt;00:00, 12.4MB/s]",
            "_view_count": null,
            "_view_module_version": "1.5.0",
            "description_tooltip": null,
            "_model_module": "@jupyter-widgets/controls",
            "layout": "IPY_MODEL_f767550d63e34332ba4174c318667eb9"
          }
        },
        "945a810a00ff4cb7beffcec30bdbdd7e": {
          "model_module": "@jupyter-widgets/controls",
          "model_name": "DescriptionStyleModel",
          "model_module_version": "1.5.0",
          "state": {
            "_view_name": "StyleView",
            "_model_name": "DescriptionStyleModel",
            "description_width": "",
            "_view_module": "@jupyter-widgets/base",
            "_model_module_version": "1.5.0",
            "_view_count": null,
            "_view_module_version": "1.2.0",
            "_model_module": "@jupyter-widgets/controls"
          }
        },
        "af7fc3ab5bd64a9f834f4548028a9540": {
          "model_module": "@jupyter-widgets/base",
          "model_name": "LayoutModel",
          "model_module_version": "1.2.0",
          "state": {
            "_view_name": "LayoutView",
            "grid_template_rows": null,
            "right": null,
            "justify_content": null,
            "_view_module": "@jupyter-widgets/base",
            "overflow": null,
            "_model_module_version": "1.2.0",
            "_view_count": null,
            "flex_flow": null,
            "width": null,
            "min_width": null,
            "border": null,
            "align_items": null,
            "bottom": null,
            "_model_module": "@jupyter-widgets/base",
            "top": null,
            "grid_column": null,
            "overflow_y": null,
            "overflow_x": null,
            "grid_auto_flow": null,
            "grid_area": null,
            "grid_template_columns": null,
            "flex": null,
            "_model_name": "LayoutModel",
            "justify_items": null,
            "grid_row": null,
            "max_height": null,
            "align_content": null,
            "visibility": null,
            "align_self": null,
            "height": null,
            "min_height": null,
            "padding": null,
            "grid_auto_rows": null,
            "grid_gap": null,
            "max_width": null,
            "order": null,
            "_view_module_version": "1.2.0",
            "grid_template_areas": null,
            "object_position": null,
            "object_fit": null,
            "grid_auto_columns": null,
            "margin": null,
            "display": null,
            "left": null
          }
        },
        "ecaa057e56314c7fb0e820f7ffeb833b": {
          "model_module": "@jupyter-widgets/controls",
          "model_name": "ProgressStyleModel",
          "model_module_version": "1.5.0",
          "state": {
            "_view_name": "StyleView",
            "_model_name": "ProgressStyleModel",
            "description_width": "",
            "_view_module": "@jupyter-widgets/base",
            "_model_module_version": "1.5.0",
            "_view_count": null,
            "_view_module_version": "1.2.0",
            "bar_color": null,
            "_model_module": "@jupyter-widgets/controls"
          }
        },
        "184cc6b69fab4427a0921ccd5cfe3416": {
          "model_module": "@jupyter-widgets/base",
          "model_name": "LayoutModel",
          "model_module_version": "1.2.0",
          "state": {
            "_view_name": "LayoutView",
            "grid_template_rows": null,
            "right": null,
            "justify_content": null,
            "_view_module": "@jupyter-widgets/base",
            "overflow": null,
            "_model_module_version": "1.2.0",
            "_view_count": null,
            "flex_flow": null,
            "width": null,
            "min_width": null,
            "border": null,
            "align_items": null,
            "bottom": null,
            "_model_module": "@jupyter-widgets/base",
            "top": null,
            "grid_column": null,
            "overflow_y": null,
            "overflow_x": null,
            "grid_auto_flow": null,
            "grid_area": null,
            "grid_template_columns": null,
            "flex": null,
            "_model_name": "LayoutModel",
            "justify_items": null,
            "grid_row": null,
            "max_height": null,
            "align_content": null,
            "visibility": null,
            "align_self": null,
            "height": null,
            "min_height": null,
            "padding": null,
            "grid_auto_rows": null,
            "grid_gap": null,
            "max_width": null,
            "order": null,
            "_view_module_version": "1.2.0",
            "grid_template_areas": null,
            "object_position": null,
            "object_fit": null,
            "grid_auto_columns": null,
            "margin": null,
            "display": null,
            "left": null
          }
        },
        "169a1418228f454e80c79964b6ba573e": {
          "model_module": "@jupyter-widgets/controls",
          "model_name": "DescriptionStyleModel",
          "model_module_version": "1.5.0",
          "state": {
            "_view_name": "StyleView",
            "_model_name": "DescriptionStyleModel",
            "description_width": "",
            "_view_module": "@jupyter-widgets/base",
            "_model_module_version": "1.5.0",
            "_view_count": null,
            "_view_module_version": "1.2.0",
            "_model_module": "@jupyter-widgets/controls"
          }
        },
        "f767550d63e34332ba4174c318667eb9": {
          "model_module": "@jupyter-widgets/base",
          "model_name": "LayoutModel",
          "model_module_version": "1.2.0",
          "state": {
            "_view_name": "LayoutView",
            "grid_template_rows": null,
            "right": null,
            "justify_content": null,
            "_view_module": "@jupyter-widgets/base",
            "overflow": null,
            "_model_module_version": "1.2.0",
            "_view_count": null,
            "flex_flow": null,
            "width": null,
            "min_width": null,
            "border": null,
            "align_items": null,
            "bottom": null,
            "_model_module": "@jupyter-widgets/base",
            "top": null,
            "grid_column": null,
            "overflow_y": null,
            "overflow_x": null,
            "grid_auto_flow": null,
            "grid_area": null,
            "grid_template_columns": null,
            "flex": null,
            "_model_name": "LayoutModel",
            "justify_items": null,
            "grid_row": null,
            "max_height": null,
            "align_content": null,
            "visibility": null,
            "align_self": null,
            "height": null,
            "min_height": null,
            "padding": null,
            "grid_auto_rows": null,
            "grid_gap": null,
            "max_width": null,
            "order": null,
            "_view_module_version": "1.2.0",
            "grid_template_areas": null,
            "object_position": null,
            "object_fit": null,
            "grid_auto_columns": null,
            "margin": null,
            "display": null,
            "left": null
          }
        },
        "03701f2fa4c24971b165003c078d401d": {
          "model_module": "@jupyter-widgets/controls",
          "model_name": "HBoxModel",
          "model_module_version": "1.5.0",
          "state": {
            "_view_name": "HBoxView",
            "_dom_classes": [],
            "_model_name": "HBoxModel",
            "_view_module": "@jupyter-widgets/controls",
            "_model_module_version": "1.5.0",
            "_view_count": null,
            "_view_module_version": "1.5.0",
            "box_style": "",
            "layout": "IPY_MODEL_919e620ae63548cc9e41a90294a30c2a",
            "_model_module": "@jupyter-widgets/controls",
            "children": [
              "IPY_MODEL_946ddeb6b140425a949b6ab9fe010980",
              "IPY_MODEL_bb02424190b740caabfe923ca2a15e29",
              "IPY_MODEL_dbb81dabeab94b7db3b42c0b52b135b6"
            ]
          }
        },
        "919e620ae63548cc9e41a90294a30c2a": {
          "model_module": "@jupyter-widgets/base",
          "model_name": "LayoutModel",
          "model_module_version": "1.2.0",
          "state": {
            "_view_name": "LayoutView",
            "grid_template_rows": null,
            "right": null,
            "justify_content": null,
            "_view_module": "@jupyter-widgets/base",
            "overflow": null,
            "_model_module_version": "1.2.0",
            "_view_count": null,
            "flex_flow": null,
            "width": null,
            "min_width": null,
            "border": null,
            "align_items": null,
            "bottom": null,
            "_model_module": "@jupyter-widgets/base",
            "top": null,
            "grid_column": null,
            "overflow_y": null,
            "overflow_x": null,
            "grid_auto_flow": null,
            "grid_area": null,
            "grid_template_columns": null,
            "flex": null,
            "_model_name": "LayoutModel",
            "justify_items": null,
            "grid_row": null,
            "max_height": null,
            "align_content": null,
            "visibility": null,
            "align_self": null,
            "height": null,
            "min_height": null,
            "padding": null,
            "grid_auto_rows": null,
            "grid_gap": null,
            "max_width": null,
            "order": null,
            "_view_module_version": "1.2.0",
            "grid_template_areas": null,
            "object_position": null,
            "object_fit": null,
            "grid_auto_columns": null,
            "margin": null,
            "display": null,
            "left": null
          }
        },
        "946ddeb6b140425a949b6ab9fe010980": {
          "model_module": "@jupyter-widgets/controls",
          "model_name": "HTMLModel",
          "model_module_version": "1.5.0",
          "state": {
            "_view_name": "HTMLView",
            "style": "IPY_MODEL_fdf2e0367a7f4b89bcdc21109f0ccafc",
            "_dom_classes": [],
            "description": "",
            "_model_name": "HTMLModel",
            "placeholder": "​",
            "_view_module": "@jupyter-widgets/controls",
            "_model_module_version": "1.5.0",
            "value": "Downloading: 100%",
            "_view_count": null,
            "_view_module_version": "1.5.0",
            "description_tooltip": null,
            "_model_module": "@jupyter-widgets/controls",
            "layout": "IPY_MODEL_ff70dccee82c42c19021beccde116942"
          }
        },
        "bb02424190b740caabfe923ca2a15e29": {
          "model_module": "@jupyter-widgets/controls",
          "model_name": "FloatProgressModel",
          "model_module_version": "1.5.0",
          "state": {
            "_view_name": "ProgressView",
            "style": "IPY_MODEL_b493f5142b0a403889a89b0e251350ec",
            "_dom_classes": [],
            "description": "",
            "_model_name": "FloatProgressModel",
            "bar_style": "success",
            "max": 1078931,
            "_view_module": "@jupyter-widgets/controls",
            "_model_module_version": "1.5.0",
            "value": 1078931,
            "_view_count": null,
            "_view_module_version": "1.5.0",
            "orientation": "horizontal",
            "min": 0,
            "description_tooltip": null,
            "_model_module": "@jupyter-widgets/controls",
            "layout": "IPY_MODEL_b812d87442e84ee09db43da6b515de5e"
          }
        },
        "dbb81dabeab94b7db3b42c0b52b135b6": {
          "model_module": "@jupyter-widgets/controls",
          "model_name": "HTMLModel",
          "model_module_version": "1.5.0",
          "state": {
            "_view_name": "HTMLView",
            "style": "IPY_MODEL_2ab0ed4396cd4345b786c593272e0f96",
            "_dom_classes": [],
            "description": "",
            "_model_name": "HTMLModel",
            "placeholder": "​",
            "_view_module": "@jupyter-widgets/controls",
            "_model_module_version": "1.5.0",
            "value": " 1.03M/1.03M [00:00&lt;00:00, 13.7MB/s]",
            "_view_count": null,
            "_view_module_version": "1.5.0",
            "description_tooltip": null,
            "_model_module": "@jupyter-widgets/controls",
            "layout": "IPY_MODEL_e7102dad35f043d8a6e66689a2c29459"
          }
        },
        "fdf2e0367a7f4b89bcdc21109f0ccafc": {
          "model_module": "@jupyter-widgets/controls",
          "model_name": "DescriptionStyleModel",
          "model_module_version": "1.5.0",
          "state": {
            "_view_name": "StyleView",
            "_model_name": "DescriptionStyleModel",
            "description_width": "",
            "_view_module": "@jupyter-widgets/base",
            "_model_module_version": "1.5.0",
            "_view_count": null,
            "_view_module_version": "1.2.0",
            "_model_module": "@jupyter-widgets/controls"
          }
        },
        "ff70dccee82c42c19021beccde116942": {
          "model_module": "@jupyter-widgets/base",
          "model_name": "LayoutModel",
          "model_module_version": "1.2.0",
          "state": {
            "_view_name": "LayoutView",
            "grid_template_rows": null,
            "right": null,
            "justify_content": null,
            "_view_module": "@jupyter-widgets/base",
            "overflow": null,
            "_model_module_version": "1.2.0",
            "_view_count": null,
            "flex_flow": null,
            "width": null,
            "min_width": null,
            "border": null,
            "align_items": null,
            "bottom": null,
            "_model_module": "@jupyter-widgets/base",
            "top": null,
            "grid_column": null,
            "overflow_y": null,
            "overflow_x": null,
            "grid_auto_flow": null,
            "grid_area": null,
            "grid_template_columns": null,
            "flex": null,
            "_model_name": "LayoutModel",
            "justify_items": null,
            "grid_row": null,
            "max_height": null,
            "align_content": null,
            "visibility": null,
            "align_self": null,
            "height": null,
            "min_height": null,
            "padding": null,
            "grid_auto_rows": null,
            "grid_gap": null,
            "max_width": null,
            "order": null,
            "_view_module_version": "1.2.0",
            "grid_template_areas": null,
            "object_position": null,
            "object_fit": null,
            "grid_auto_columns": null,
            "margin": null,
            "display": null,
            "left": null
          }
        },
        "b493f5142b0a403889a89b0e251350ec": {
          "model_module": "@jupyter-widgets/controls",
          "model_name": "ProgressStyleModel",
          "model_module_version": "1.5.0",
          "state": {
            "_view_name": "StyleView",
            "_model_name": "ProgressStyleModel",
            "description_width": "",
            "_view_module": "@jupyter-widgets/base",
            "_model_module_version": "1.5.0",
            "_view_count": null,
            "_view_module_version": "1.2.0",
            "bar_color": null,
            "_model_module": "@jupyter-widgets/controls"
          }
        },
        "b812d87442e84ee09db43da6b515de5e": {
          "model_module": "@jupyter-widgets/base",
          "model_name": "LayoutModel",
          "model_module_version": "1.2.0",
          "state": {
            "_view_name": "LayoutView",
            "grid_template_rows": null,
            "right": null,
            "justify_content": null,
            "_view_module": "@jupyter-widgets/base",
            "overflow": null,
            "_model_module_version": "1.2.0",
            "_view_count": null,
            "flex_flow": null,
            "width": null,
            "min_width": null,
            "border": null,
            "align_items": null,
            "bottom": null,
            "_model_module": "@jupyter-widgets/base",
            "top": null,
            "grid_column": null,
            "overflow_y": null,
            "overflow_x": null,
            "grid_auto_flow": null,
            "grid_area": null,
            "grid_template_columns": null,
            "flex": null,
            "_model_name": "LayoutModel",
            "justify_items": null,
            "grid_row": null,
            "max_height": null,
            "align_content": null,
            "visibility": null,
            "align_self": null,
            "height": null,
            "min_height": null,
            "padding": null,
            "grid_auto_rows": null,
            "grid_gap": null,
            "max_width": null,
            "order": null,
            "_view_module_version": "1.2.0",
            "grid_template_areas": null,
            "object_position": null,
            "object_fit": null,
            "grid_auto_columns": null,
            "margin": null,
            "display": null,
            "left": null
          }
        },
        "2ab0ed4396cd4345b786c593272e0f96": {
          "model_module": "@jupyter-widgets/controls",
          "model_name": "DescriptionStyleModel",
          "model_module_version": "1.5.0",
          "state": {
            "_view_name": "StyleView",
            "_model_name": "DescriptionStyleModel",
            "description_width": "",
            "_view_module": "@jupyter-widgets/base",
            "_model_module_version": "1.5.0",
            "_view_count": null,
            "_view_module_version": "1.2.0",
            "_model_module": "@jupyter-widgets/controls"
          }
        },
        "e7102dad35f043d8a6e66689a2c29459": {
          "model_module": "@jupyter-widgets/base",
          "model_name": "LayoutModel",
          "model_module_version": "1.2.0",
          "state": {
            "_view_name": "LayoutView",
            "grid_template_rows": null,
            "right": null,
            "justify_content": null,
            "_view_module": "@jupyter-widgets/base",
            "overflow": null,
            "_model_module_version": "1.2.0",
            "_view_count": null,
            "flex_flow": null,
            "width": null,
            "min_width": null,
            "border": null,
            "align_items": null,
            "bottom": null,
            "_model_module": "@jupyter-widgets/base",
            "top": null,
            "grid_column": null,
            "overflow_y": null,
            "overflow_x": null,
            "grid_auto_flow": null,
            "grid_area": null,
            "grid_template_columns": null,
            "flex": null,
            "_model_name": "LayoutModel",
            "justify_items": null,
            "grid_row": null,
            "max_height": null,
            "align_content": null,
            "visibility": null,
            "align_self": null,
            "height": null,
            "min_height": null,
            "padding": null,
            "grid_auto_rows": null,
            "grid_gap": null,
            "max_width": null,
            "order": null,
            "_view_module_version": "1.2.0",
            "grid_template_areas": null,
            "object_position": null,
            "object_fit": null,
            "grid_auto_columns": null,
            "margin": null,
            "display": null,
            "left": null
          }
        },
        "55d5eb46092e4b929e70dc24fb312856": {
          "model_module": "@jupyter-widgets/controls",
          "model_name": "HBoxModel",
          "model_module_version": "1.5.0",
          "state": {
            "_view_name": "HBoxView",
            "_dom_classes": [],
            "_model_name": "HBoxModel",
            "_view_module": "@jupyter-widgets/controls",
            "_model_module_version": "1.5.0",
            "_view_count": null,
            "_view_module_version": "1.5.0",
            "box_style": "",
            "layout": "IPY_MODEL_bb681c03fb73413a8076ad5714853c6c",
            "_model_module": "@jupyter-widgets/controls",
            "children": [
              "IPY_MODEL_5996c890d28042458f09a1b989ddf290",
              "IPY_MODEL_12f11558f6e6493cb78c798a062d73ea",
              "IPY_MODEL_67a9313ba2d243ebbfdd017cccf73705"
            ]
          }
        },
        "bb681c03fb73413a8076ad5714853c6c": {
          "model_module": "@jupyter-widgets/base",
          "model_name": "LayoutModel",
          "model_module_version": "1.2.0",
          "state": {
            "_view_name": "LayoutView",
            "grid_template_rows": null,
            "right": null,
            "justify_content": null,
            "_view_module": "@jupyter-widgets/base",
            "overflow": null,
            "_model_module_version": "1.2.0",
            "_view_count": null,
            "flex_flow": null,
            "width": null,
            "min_width": null,
            "border": null,
            "align_items": null,
            "bottom": null,
            "_model_module": "@jupyter-widgets/base",
            "top": null,
            "grid_column": null,
            "overflow_y": null,
            "overflow_x": null,
            "grid_auto_flow": null,
            "grid_area": null,
            "grid_template_columns": null,
            "flex": null,
            "_model_name": "LayoutModel",
            "justify_items": null,
            "grid_row": null,
            "max_height": null,
            "align_content": null,
            "visibility": null,
            "align_self": null,
            "height": null,
            "min_height": null,
            "padding": null,
            "grid_auto_rows": null,
            "grid_gap": null,
            "max_width": null,
            "order": null,
            "_view_module_version": "1.2.0",
            "grid_template_areas": null,
            "object_position": null,
            "object_fit": null,
            "grid_auto_columns": null,
            "margin": null,
            "display": null,
            "left": null
          }
        },
        "5996c890d28042458f09a1b989ddf290": {
          "model_module": "@jupyter-widgets/controls",
          "model_name": "HTMLModel",
          "model_module_version": "1.5.0",
          "state": {
            "_view_name": "HTMLView",
            "style": "IPY_MODEL_7f269562a62046cb86e9f283a2b374c6",
            "_dom_classes": [],
            "description": "",
            "_model_name": "HTMLModel",
            "placeholder": "​",
            "_view_module": "@jupyter-widgets/controls",
            "_model_module_version": "1.5.0",
            "value": "Downloading: 100%",
            "_view_count": null,
            "_view_module_version": "1.5.0",
            "description_tooltip": null,
            "_model_module": "@jupyter-widgets/controls",
            "layout": "IPY_MODEL_2095f367a43142fdbd972d83d9c78e1a"
          }
        },
        "12f11558f6e6493cb78c798a062d73ea": {
          "model_module": "@jupyter-widgets/controls",
          "model_name": "FloatProgressModel",
          "model_module_version": "1.5.0",
          "state": {
            "_view_name": "ProgressView",
            "style": "IPY_MODEL_5cfaf9d020814d4a966f13d60d99df0a",
            "_dom_classes": [],
            "description": "",
            "_model_name": "FloatProgressModel",
            "bar_style": "success",
            "max": 17,
            "_view_module": "@jupyter-widgets/controls",
            "_model_module_version": "1.5.0",
            "value": 17,
            "_view_count": null,
            "_view_module_version": "1.5.0",
            "orientation": "horizontal",
            "min": 0,
            "description_tooltip": null,
            "_model_module": "@jupyter-widgets/controls",
            "layout": "IPY_MODEL_96cb7372c5114672a514ba2695fd9b0c"
          }
        },
        "67a9313ba2d243ebbfdd017cccf73705": {
          "model_module": "@jupyter-widgets/controls",
          "model_name": "HTMLModel",
          "model_module_version": "1.5.0",
          "state": {
            "_view_name": "HTMLView",
            "style": "IPY_MODEL_2f5a72669a014350b647796009abe27f",
            "_dom_classes": [],
            "description": "",
            "_model_name": "HTMLModel",
            "placeholder": "​",
            "_view_module": "@jupyter-widgets/controls",
            "_model_module_version": "1.5.0",
            "value": " 17.0/17.0 [00:00&lt;00:00, 543B/s]",
            "_view_count": null,
            "_view_module_version": "1.5.0",
            "description_tooltip": null,
            "_model_module": "@jupyter-widgets/controls",
            "layout": "IPY_MODEL_5673ec57a1dc4886b780464fbc19440e"
          }
        },
        "7f269562a62046cb86e9f283a2b374c6": {
          "model_module": "@jupyter-widgets/controls",
          "model_name": "DescriptionStyleModel",
          "model_module_version": "1.5.0",
          "state": {
            "_view_name": "StyleView",
            "_model_name": "DescriptionStyleModel",
            "description_width": "",
            "_view_module": "@jupyter-widgets/base",
            "_model_module_version": "1.5.0",
            "_view_count": null,
            "_view_module_version": "1.2.0",
            "_model_module": "@jupyter-widgets/controls"
          }
        },
        "2095f367a43142fdbd972d83d9c78e1a": {
          "model_module": "@jupyter-widgets/base",
          "model_name": "LayoutModel",
          "model_module_version": "1.2.0",
          "state": {
            "_view_name": "LayoutView",
            "grid_template_rows": null,
            "right": null,
            "justify_content": null,
            "_view_module": "@jupyter-widgets/base",
            "overflow": null,
            "_model_module_version": "1.2.0",
            "_view_count": null,
            "flex_flow": null,
            "width": null,
            "min_width": null,
            "border": null,
            "align_items": null,
            "bottom": null,
            "_model_module": "@jupyter-widgets/base",
            "top": null,
            "grid_column": null,
            "overflow_y": null,
            "overflow_x": null,
            "grid_auto_flow": null,
            "grid_area": null,
            "grid_template_columns": null,
            "flex": null,
            "_model_name": "LayoutModel",
            "justify_items": null,
            "grid_row": null,
            "max_height": null,
            "align_content": null,
            "visibility": null,
            "align_self": null,
            "height": null,
            "min_height": null,
            "padding": null,
            "grid_auto_rows": null,
            "grid_gap": null,
            "max_width": null,
            "order": null,
            "_view_module_version": "1.2.0",
            "grid_template_areas": null,
            "object_position": null,
            "object_fit": null,
            "grid_auto_columns": null,
            "margin": null,
            "display": null,
            "left": null
          }
        },
        "5cfaf9d020814d4a966f13d60d99df0a": {
          "model_module": "@jupyter-widgets/controls",
          "model_name": "ProgressStyleModel",
          "model_module_version": "1.5.0",
          "state": {
            "_view_name": "StyleView",
            "_model_name": "ProgressStyleModel",
            "description_width": "",
            "_view_module": "@jupyter-widgets/base",
            "_model_module_version": "1.5.0",
            "_view_count": null,
            "_view_module_version": "1.2.0",
            "bar_color": null,
            "_model_module": "@jupyter-widgets/controls"
          }
        },
        "96cb7372c5114672a514ba2695fd9b0c": {
          "model_module": "@jupyter-widgets/base",
          "model_name": "LayoutModel",
          "model_module_version": "1.2.0",
          "state": {
            "_view_name": "LayoutView",
            "grid_template_rows": null,
            "right": null,
            "justify_content": null,
            "_view_module": "@jupyter-widgets/base",
            "overflow": null,
            "_model_module_version": "1.2.0",
            "_view_count": null,
            "flex_flow": null,
            "width": null,
            "min_width": null,
            "border": null,
            "align_items": null,
            "bottom": null,
            "_model_module": "@jupyter-widgets/base",
            "top": null,
            "grid_column": null,
            "overflow_y": null,
            "overflow_x": null,
            "grid_auto_flow": null,
            "grid_area": null,
            "grid_template_columns": null,
            "flex": null,
            "_model_name": "LayoutModel",
            "justify_items": null,
            "grid_row": null,
            "max_height": null,
            "align_content": null,
            "visibility": null,
            "align_self": null,
            "height": null,
            "min_height": null,
            "padding": null,
            "grid_auto_rows": null,
            "grid_gap": null,
            "max_width": null,
            "order": null,
            "_view_module_version": "1.2.0",
            "grid_template_areas": null,
            "object_position": null,
            "object_fit": null,
            "grid_auto_columns": null,
            "margin": null,
            "display": null,
            "left": null
          }
        },
        "2f5a72669a014350b647796009abe27f": {
          "model_module": "@jupyter-widgets/controls",
          "model_name": "DescriptionStyleModel",
          "model_module_version": "1.5.0",
          "state": {
            "_view_name": "StyleView",
            "_model_name": "DescriptionStyleModel",
            "description_width": "",
            "_view_module": "@jupyter-widgets/base",
            "_model_module_version": "1.5.0",
            "_view_count": null,
            "_view_module_version": "1.2.0",
            "_model_module": "@jupyter-widgets/controls"
          }
        },
        "5673ec57a1dc4886b780464fbc19440e": {
          "model_module": "@jupyter-widgets/base",
          "model_name": "LayoutModel",
          "model_module_version": "1.2.0",
          "state": {
            "_view_name": "LayoutView",
            "grid_template_rows": null,
            "right": null,
            "justify_content": null,
            "_view_module": "@jupyter-widgets/base",
            "overflow": null,
            "_model_module_version": "1.2.0",
            "_view_count": null,
            "flex_flow": null,
            "width": null,
            "min_width": null,
            "border": null,
            "align_items": null,
            "bottom": null,
            "_model_module": "@jupyter-widgets/base",
            "top": null,
            "grid_column": null,
            "overflow_y": null,
            "overflow_x": null,
            "grid_auto_flow": null,
            "grid_area": null,
            "grid_template_columns": null,
            "flex": null,
            "_model_name": "LayoutModel",
            "justify_items": null,
            "grid_row": null,
            "max_height": null,
            "align_content": null,
            "visibility": null,
            "align_self": null,
            "height": null,
            "min_height": null,
            "padding": null,
            "grid_auto_rows": null,
            "grid_gap": null,
            "max_width": null,
            "order": null,
            "_view_module_version": "1.2.0",
            "grid_template_areas": null,
            "object_position": null,
            "object_fit": null,
            "grid_auto_columns": null,
            "margin": null,
            "display": null,
            "left": null
          }
        },
        "5f68ebb230174038a8647fe41b17d70e": {
          "model_module": "@jupyter-widgets/controls",
          "model_name": "HBoxModel",
          "model_module_version": "1.5.0",
          "state": {
            "_view_name": "HBoxView",
            "_dom_classes": [],
            "_model_name": "HBoxModel",
            "_view_module": "@jupyter-widgets/controls",
            "_model_module_version": "1.5.0",
            "_view_count": null,
            "_view_module_version": "1.5.0",
            "box_style": "",
            "layout": "IPY_MODEL_25ff050b71d1492da5eb101d2bddbc7b",
            "_model_module": "@jupyter-widgets/controls",
            "children": [
              "IPY_MODEL_8eb99f44d2f443bd9921d31d421ca2e5",
              "IPY_MODEL_58ffe22bb1fa4e48b755e39a797a6920",
              "IPY_MODEL_a56162291b334e47988384271baff5d7"
            ]
          }
        },
        "25ff050b71d1492da5eb101d2bddbc7b": {
          "model_module": "@jupyter-widgets/base",
          "model_name": "LayoutModel",
          "model_module_version": "1.2.0",
          "state": {
            "_view_name": "LayoutView",
            "grid_template_rows": null,
            "right": null,
            "justify_content": null,
            "_view_module": "@jupyter-widgets/base",
            "overflow": null,
            "_model_module_version": "1.2.0",
            "_view_count": null,
            "flex_flow": null,
            "width": null,
            "min_width": null,
            "border": null,
            "align_items": null,
            "bottom": null,
            "_model_module": "@jupyter-widgets/base",
            "top": null,
            "grid_column": null,
            "overflow_y": null,
            "overflow_x": null,
            "grid_auto_flow": null,
            "grid_area": null,
            "grid_template_columns": null,
            "flex": null,
            "_model_name": "LayoutModel",
            "justify_items": null,
            "grid_row": null,
            "max_height": null,
            "align_content": null,
            "visibility": null,
            "align_self": null,
            "height": null,
            "min_height": null,
            "padding": null,
            "grid_auto_rows": null,
            "grid_gap": null,
            "max_width": null,
            "order": null,
            "_view_module_version": "1.2.0",
            "grid_template_areas": null,
            "object_position": null,
            "object_fit": null,
            "grid_auto_columns": null,
            "margin": null,
            "display": null,
            "left": null
          }
        },
        "8eb99f44d2f443bd9921d31d421ca2e5": {
          "model_module": "@jupyter-widgets/controls",
          "model_name": "HTMLModel",
          "model_module_version": "1.5.0",
          "state": {
            "_view_name": "HTMLView",
            "style": "IPY_MODEL_2a18745bcc44436b9a1ca3c9864d9243",
            "_dom_classes": [],
            "description": "",
            "_model_name": "HTMLModel",
            "placeholder": "​",
            "_view_module": "@jupyter-widgets/controls",
            "_model_module_version": "1.5.0",
            "value": "Downloading: 100%",
            "_view_count": null,
            "_view_module_version": "1.5.0",
            "description_tooltip": null,
            "_model_module": "@jupyter-widgets/controls",
            "layout": "IPY_MODEL_c4f755f8212c438dab2af35bf123becf"
          }
        },
        "58ffe22bb1fa4e48b755e39a797a6920": {
          "model_module": "@jupyter-widgets/controls",
          "model_name": "FloatProgressModel",
          "model_module_version": "1.5.0",
          "state": {
            "_view_name": "ProgressView",
            "style": "IPY_MODEL_2ceeed2193424fa2b5ee8cbca4a10ea3",
            "_dom_classes": [],
            "description": "",
            "_model_name": "FloatProgressModel",
            "bar_style": "success",
            "max": 150,
            "_view_module": "@jupyter-widgets/controls",
            "_model_module_version": "1.5.0",
            "value": 150,
            "_view_count": null,
            "_view_module_version": "1.5.0",
            "orientation": "horizontal",
            "min": 0,
            "description_tooltip": null,
            "_model_module": "@jupyter-widgets/controls",
            "layout": "IPY_MODEL_ff18f37fd319491fac7340e02cd742fd"
          }
        },
        "a56162291b334e47988384271baff5d7": {
          "model_module": "@jupyter-widgets/controls",
          "model_name": "HTMLModel",
          "model_module_version": "1.5.0",
          "state": {
            "_view_name": "HTMLView",
            "style": "IPY_MODEL_22fe452a9d4e4bffa013302b63843bdf",
            "_dom_classes": [],
            "description": "",
            "_model_name": "HTMLModel",
            "placeholder": "​",
            "_view_module": "@jupyter-widgets/controls",
            "_model_module_version": "1.5.0",
            "value": " 150/150 [00:00&lt;00:00, 4.72kB/s]",
            "_view_count": null,
            "_view_module_version": "1.5.0",
            "description_tooltip": null,
            "_model_module": "@jupyter-widgets/controls",
            "layout": "IPY_MODEL_b8e268cd7c2f4c24ae8d6a30492ea210"
          }
        },
        "2a18745bcc44436b9a1ca3c9864d9243": {
          "model_module": "@jupyter-widgets/controls",
          "model_name": "DescriptionStyleModel",
          "model_module_version": "1.5.0",
          "state": {
            "_view_name": "StyleView",
            "_model_name": "DescriptionStyleModel",
            "description_width": "",
            "_view_module": "@jupyter-widgets/base",
            "_model_module_version": "1.5.0",
            "_view_count": null,
            "_view_module_version": "1.2.0",
            "_model_module": "@jupyter-widgets/controls"
          }
        },
        "c4f755f8212c438dab2af35bf123becf": {
          "model_module": "@jupyter-widgets/base",
          "model_name": "LayoutModel",
          "model_module_version": "1.2.0",
          "state": {
            "_view_name": "LayoutView",
            "grid_template_rows": null,
            "right": null,
            "justify_content": null,
            "_view_module": "@jupyter-widgets/base",
            "overflow": null,
            "_model_module_version": "1.2.0",
            "_view_count": null,
            "flex_flow": null,
            "width": null,
            "min_width": null,
            "border": null,
            "align_items": null,
            "bottom": null,
            "_model_module": "@jupyter-widgets/base",
            "top": null,
            "grid_column": null,
            "overflow_y": null,
            "overflow_x": null,
            "grid_auto_flow": null,
            "grid_area": null,
            "grid_template_columns": null,
            "flex": null,
            "_model_name": "LayoutModel",
            "justify_items": null,
            "grid_row": null,
            "max_height": null,
            "align_content": null,
            "visibility": null,
            "align_self": null,
            "height": null,
            "min_height": null,
            "padding": null,
            "grid_auto_rows": null,
            "grid_gap": null,
            "max_width": null,
            "order": null,
            "_view_module_version": "1.2.0",
            "grid_template_areas": null,
            "object_position": null,
            "object_fit": null,
            "grid_auto_columns": null,
            "margin": null,
            "display": null,
            "left": null
          }
        },
        "2ceeed2193424fa2b5ee8cbca4a10ea3": {
          "model_module": "@jupyter-widgets/controls",
          "model_name": "ProgressStyleModel",
          "model_module_version": "1.5.0",
          "state": {
            "_view_name": "StyleView",
            "_model_name": "ProgressStyleModel",
            "description_width": "",
            "_view_module": "@jupyter-widgets/base",
            "_model_module_version": "1.5.0",
            "_view_count": null,
            "_view_module_version": "1.2.0",
            "bar_color": null,
            "_model_module": "@jupyter-widgets/controls"
          }
        },
        "ff18f37fd319491fac7340e02cd742fd": {
          "model_module": "@jupyter-widgets/base",
          "model_name": "LayoutModel",
          "model_module_version": "1.2.0",
          "state": {
            "_view_name": "LayoutView",
            "grid_template_rows": null,
            "right": null,
            "justify_content": null,
            "_view_module": "@jupyter-widgets/base",
            "overflow": null,
            "_model_module_version": "1.2.0",
            "_view_count": null,
            "flex_flow": null,
            "width": null,
            "min_width": null,
            "border": null,
            "align_items": null,
            "bottom": null,
            "_model_module": "@jupyter-widgets/base",
            "top": null,
            "grid_column": null,
            "overflow_y": null,
            "overflow_x": null,
            "grid_auto_flow": null,
            "grid_area": null,
            "grid_template_columns": null,
            "flex": null,
            "_model_name": "LayoutModel",
            "justify_items": null,
            "grid_row": null,
            "max_height": null,
            "align_content": null,
            "visibility": null,
            "align_self": null,
            "height": null,
            "min_height": null,
            "padding": null,
            "grid_auto_rows": null,
            "grid_gap": null,
            "max_width": null,
            "order": null,
            "_view_module_version": "1.2.0",
            "grid_template_areas": null,
            "object_position": null,
            "object_fit": null,
            "grid_auto_columns": null,
            "margin": null,
            "display": null,
            "left": null
          }
        },
        "22fe452a9d4e4bffa013302b63843bdf": {
          "model_module": "@jupyter-widgets/controls",
          "model_name": "DescriptionStyleModel",
          "model_module_version": "1.5.0",
          "state": {
            "_view_name": "StyleView",
            "_model_name": "DescriptionStyleModel",
            "description_width": "",
            "_view_module": "@jupyter-widgets/base",
            "_model_module_version": "1.5.0",
            "_view_count": null,
            "_view_module_version": "1.2.0",
            "_model_module": "@jupyter-widgets/controls"
          }
        },
        "b8e268cd7c2f4c24ae8d6a30492ea210": {
          "model_module": "@jupyter-widgets/base",
          "model_name": "LayoutModel",
          "model_module_version": "1.2.0",
          "state": {
            "_view_name": "LayoutView",
            "grid_template_rows": null,
            "right": null,
            "justify_content": null,
            "_view_module": "@jupyter-widgets/base",
            "overflow": null,
            "_model_module_version": "1.2.0",
            "_view_count": null,
            "flex_flow": null,
            "width": null,
            "min_width": null,
            "border": null,
            "align_items": null,
            "bottom": null,
            "_model_module": "@jupyter-widgets/base",
            "top": null,
            "grid_column": null,
            "overflow_y": null,
            "overflow_x": null,
            "grid_auto_flow": null,
            "grid_area": null,
            "grid_template_columns": null,
            "flex": null,
            "_model_name": "LayoutModel",
            "justify_items": null,
            "grid_row": null,
            "max_height": null,
            "align_content": null,
            "visibility": null,
            "align_self": null,
            "height": null,
            "min_height": null,
            "padding": null,
            "grid_auto_rows": null,
            "grid_gap": null,
            "max_width": null,
            "order": null,
            "_view_module_version": "1.2.0",
            "grid_template_areas": null,
            "object_position": null,
            "object_fit": null,
            "grid_auto_columns": null,
            "margin": null,
            "display": null,
            "left": null
          }
        }
      }
    }
  },
  "nbformat": 4,
  "nbformat_minor": 0
}